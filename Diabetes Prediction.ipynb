{
 "cells": [
  {
   "cell_type": "code",
   "execution_count": 1,
   "id": "ac720bbf",
   "metadata": {},
   "outputs": [],
   "source": [
    "import numpy as np\n",
    "import seaborn as sns  \n",
    "import pandas as pd\n",
    "import matplotlib.pyplot as plt\n",
    "%matplotlib inline"
   ]
  },
  {
   "cell_type": "code",
   "execution_count": 2,
   "id": "b84c897d",
   "metadata": {},
   "outputs": [],
   "source": [
    "data=pd.read_csv(\"diabetes.csv\")"
   ]
  },
  {
   "cell_type": "code",
   "execution_count": 3,
   "id": "2a0d83ab",
   "metadata": {},
   "outputs": [
    {
     "data": {
      "text/html": [
       "<div>\n",
       "<style scoped>\n",
       "    .dataframe tbody tr th:only-of-type {\n",
       "        vertical-align: middle;\n",
       "    }\n",
       "\n",
       "    .dataframe tbody tr th {\n",
       "        vertical-align: top;\n",
       "    }\n",
       "\n",
       "    .dataframe thead th {\n",
       "        text-align: right;\n",
       "    }\n",
       "</style>\n",
       "<table border=\"1\" class=\"dataframe\">\n",
       "  <thead>\n",
       "    <tr style=\"text-align: right;\">\n",
       "      <th></th>\n",
       "      <th>gender</th>\n",
       "      <th>age</th>\n",
       "      <th>hypertension</th>\n",
       "      <th>heart_disease</th>\n",
       "      <th>smoking_history</th>\n",
       "      <th>bmi</th>\n",
       "      <th>HbA1c_level</th>\n",
       "      <th>blood_glucose_level</th>\n",
       "      <th>diabetes</th>\n",
       "    </tr>\n",
       "  </thead>\n",
       "  <tbody>\n",
       "    <tr>\n",
       "      <th>0</th>\n",
       "      <td>Female</td>\n",
       "      <td>80.0</td>\n",
       "      <td>0</td>\n",
       "      <td>1</td>\n",
       "      <td>never</td>\n",
       "      <td>25.19</td>\n",
       "      <td>6.6</td>\n",
       "      <td>140</td>\n",
       "      <td>0</td>\n",
       "    </tr>\n",
       "    <tr>\n",
       "      <th>1</th>\n",
       "      <td>Female</td>\n",
       "      <td>54.0</td>\n",
       "      <td>0</td>\n",
       "      <td>0</td>\n",
       "      <td>No Info</td>\n",
       "      <td>27.32</td>\n",
       "      <td>6.6</td>\n",
       "      <td>80</td>\n",
       "      <td>0</td>\n",
       "    </tr>\n",
       "    <tr>\n",
       "      <th>2</th>\n",
       "      <td>Male</td>\n",
       "      <td>28.0</td>\n",
       "      <td>0</td>\n",
       "      <td>0</td>\n",
       "      <td>never</td>\n",
       "      <td>27.32</td>\n",
       "      <td>5.7</td>\n",
       "      <td>158</td>\n",
       "      <td>0</td>\n",
       "    </tr>\n",
       "    <tr>\n",
       "      <th>3</th>\n",
       "      <td>Female</td>\n",
       "      <td>36.0</td>\n",
       "      <td>0</td>\n",
       "      <td>0</td>\n",
       "      <td>current</td>\n",
       "      <td>23.45</td>\n",
       "      <td>5.0</td>\n",
       "      <td>155</td>\n",
       "      <td>0</td>\n",
       "    </tr>\n",
       "    <tr>\n",
       "      <th>4</th>\n",
       "      <td>Male</td>\n",
       "      <td>76.0</td>\n",
       "      <td>1</td>\n",
       "      <td>1</td>\n",
       "      <td>current</td>\n",
       "      <td>20.14</td>\n",
       "      <td>4.8</td>\n",
       "      <td>155</td>\n",
       "      <td>0</td>\n",
       "    </tr>\n",
       "  </tbody>\n",
       "</table>\n",
       "</div>"
      ],
      "text/plain": [
       "   gender   age  hypertension  heart_disease smoking_history    bmi  \\\n",
       "0  Female  80.0             0              1           never  25.19   \n",
       "1  Female  54.0             0              0         No Info  27.32   \n",
       "2    Male  28.0             0              0           never  27.32   \n",
       "3  Female  36.0             0              0         current  23.45   \n",
       "4    Male  76.0             1              1         current  20.14   \n",
       "\n",
       "   HbA1c_level  blood_glucose_level  diabetes  \n",
       "0          6.6                  140         0  \n",
       "1          6.6                   80         0  \n",
       "2          5.7                  158         0  \n",
       "3          5.0                  155         0  \n",
       "4          4.8                  155         0  "
      ]
     },
     "execution_count": 3,
     "metadata": {},
     "output_type": "execute_result"
    }
   ],
   "source": [
    "data.head()"
   ]
  },
  {
   "cell_type": "code",
   "execution_count": 4,
   "id": "6db44c1f",
   "metadata": {},
   "outputs": [
    {
     "data": {
      "text/html": [
       "<div>\n",
       "<style scoped>\n",
       "    .dataframe tbody tr th:only-of-type {\n",
       "        vertical-align: middle;\n",
       "    }\n",
       "\n",
       "    .dataframe tbody tr th {\n",
       "        vertical-align: top;\n",
       "    }\n",
       "\n",
       "    .dataframe thead th {\n",
       "        text-align: right;\n",
       "    }\n",
       "</style>\n",
       "<table border=\"1\" class=\"dataframe\">\n",
       "  <thead>\n",
       "    <tr style=\"text-align: right;\">\n",
       "      <th></th>\n",
       "      <th>gender</th>\n",
       "      <th>age</th>\n",
       "      <th>hypertension</th>\n",
       "      <th>heart_disease</th>\n",
       "      <th>smoking_history</th>\n",
       "      <th>bmi</th>\n",
       "      <th>HbA1c_level</th>\n",
       "      <th>blood_glucose_level</th>\n",
       "      <th>diabetes</th>\n",
       "    </tr>\n",
       "  </thead>\n",
       "  <tbody>\n",
       "    <tr>\n",
       "      <th>99995</th>\n",
       "      <td>Female</td>\n",
       "      <td>80.0</td>\n",
       "      <td>0</td>\n",
       "      <td>0</td>\n",
       "      <td>No Info</td>\n",
       "      <td>27.32</td>\n",
       "      <td>6.2</td>\n",
       "      <td>90</td>\n",
       "      <td>0</td>\n",
       "    </tr>\n",
       "    <tr>\n",
       "      <th>99996</th>\n",
       "      <td>Female</td>\n",
       "      <td>2.0</td>\n",
       "      <td>0</td>\n",
       "      <td>0</td>\n",
       "      <td>No Info</td>\n",
       "      <td>17.37</td>\n",
       "      <td>6.5</td>\n",
       "      <td>100</td>\n",
       "      <td>0</td>\n",
       "    </tr>\n",
       "    <tr>\n",
       "      <th>99997</th>\n",
       "      <td>Male</td>\n",
       "      <td>66.0</td>\n",
       "      <td>0</td>\n",
       "      <td>0</td>\n",
       "      <td>former</td>\n",
       "      <td>27.83</td>\n",
       "      <td>5.7</td>\n",
       "      <td>155</td>\n",
       "      <td>0</td>\n",
       "    </tr>\n",
       "    <tr>\n",
       "      <th>99998</th>\n",
       "      <td>Female</td>\n",
       "      <td>24.0</td>\n",
       "      <td>0</td>\n",
       "      <td>0</td>\n",
       "      <td>never</td>\n",
       "      <td>35.42</td>\n",
       "      <td>4.0</td>\n",
       "      <td>100</td>\n",
       "      <td>0</td>\n",
       "    </tr>\n",
       "    <tr>\n",
       "      <th>99999</th>\n",
       "      <td>Female</td>\n",
       "      <td>57.0</td>\n",
       "      <td>0</td>\n",
       "      <td>0</td>\n",
       "      <td>current</td>\n",
       "      <td>22.43</td>\n",
       "      <td>6.6</td>\n",
       "      <td>90</td>\n",
       "      <td>0</td>\n",
       "    </tr>\n",
       "  </tbody>\n",
       "</table>\n",
       "</div>"
      ],
      "text/plain": [
       "       gender   age  hypertension  heart_disease smoking_history    bmi  \\\n",
       "99995  Female  80.0             0              0         No Info  27.32   \n",
       "99996  Female   2.0             0              0         No Info  17.37   \n",
       "99997    Male  66.0             0              0          former  27.83   \n",
       "99998  Female  24.0             0              0           never  35.42   \n",
       "99999  Female  57.0             0              0         current  22.43   \n",
       "\n",
       "       HbA1c_level  blood_glucose_level  diabetes  \n",
       "99995          6.2                   90         0  \n",
       "99996          6.5                  100         0  \n",
       "99997          5.7                  155         0  \n",
       "99998          4.0                  100         0  \n",
       "99999          6.6                   90         0  "
      ]
     },
     "execution_count": 4,
     "metadata": {},
     "output_type": "execute_result"
    }
   ],
   "source": [
    "data.tail()"
   ]
  },
  {
   "cell_type": "code",
   "execution_count": 5,
   "id": "d086bc4e",
   "metadata": {},
   "outputs": [
    {
     "data": {
      "text/plain": [
       "(100000, 9)"
      ]
     },
     "execution_count": 5,
     "metadata": {},
     "output_type": "execute_result"
    }
   ],
   "source": [
    "data.shape"
   ]
  },
  {
   "cell_type": "code",
   "execution_count": 6,
   "id": "76b292de",
   "metadata": {},
   "outputs": [
    {
     "name": "stdout",
     "output_type": "stream",
     "text": [
      "<class 'pandas.core.frame.DataFrame'>\n",
      "RangeIndex: 100000 entries, 0 to 99999\n",
      "Data columns (total 9 columns):\n",
      " #   Column               Non-Null Count   Dtype  \n",
      "---  ------               --------------   -----  \n",
      " 0   gender               100000 non-null  object \n",
      " 1   age                  100000 non-null  float64\n",
      " 2   hypertension         100000 non-null  int64  \n",
      " 3   heart_disease        100000 non-null  int64  \n",
      " 4   smoking_history      100000 non-null  object \n",
      " 5   bmi                  100000 non-null  float64\n",
      " 6   HbA1c_level          100000 non-null  float64\n",
      " 7   blood_glucose_level  100000 non-null  int64  \n",
      " 8   diabetes             100000 non-null  int64  \n",
      "dtypes: float64(3), int64(4), object(2)\n",
      "memory usage: 6.9+ MB\n"
     ]
    }
   ],
   "source": [
    "data.info()"
   ]
  },
  {
   "cell_type": "code",
   "execution_count": 7,
   "id": "13a6e5bf",
   "metadata": {},
   "outputs": [
    {
     "data": {
      "text/html": [
       "<div>\n",
       "<style scoped>\n",
       "    .dataframe tbody tr th:only-of-type {\n",
       "        vertical-align: middle;\n",
       "    }\n",
       "\n",
       "    .dataframe tbody tr th {\n",
       "        vertical-align: top;\n",
       "    }\n",
       "\n",
       "    .dataframe thead th {\n",
       "        text-align: right;\n",
       "    }\n",
       "</style>\n",
       "<table border=\"1\" class=\"dataframe\">\n",
       "  <thead>\n",
       "    <tr style=\"text-align: right;\">\n",
       "      <th></th>\n",
       "      <th>age</th>\n",
       "      <th>hypertension</th>\n",
       "      <th>heart_disease</th>\n",
       "      <th>bmi</th>\n",
       "      <th>HbA1c_level</th>\n",
       "      <th>blood_glucose_level</th>\n",
       "      <th>diabetes</th>\n",
       "    </tr>\n",
       "  </thead>\n",
       "  <tbody>\n",
       "    <tr>\n",
       "      <th>count</th>\n",
       "      <td>100000.000000</td>\n",
       "      <td>100000.00000</td>\n",
       "      <td>100000.000000</td>\n",
       "      <td>100000.000000</td>\n",
       "      <td>100000.000000</td>\n",
       "      <td>100000.000000</td>\n",
       "      <td>100000.000000</td>\n",
       "    </tr>\n",
       "    <tr>\n",
       "      <th>mean</th>\n",
       "      <td>41.885856</td>\n",
       "      <td>0.07485</td>\n",
       "      <td>0.039420</td>\n",
       "      <td>27.320767</td>\n",
       "      <td>5.527507</td>\n",
       "      <td>138.058060</td>\n",
       "      <td>0.085000</td>\n",
       "    </tr>\n",
       "    <tr>\n",
       "      <th>std</th>\n",
       "      <td>22.516840</td>\n",
       "      <td>0.26315</td>\n",
       "      <td>0.194593</td>\n",
       "      <td>6.636783</td>\n",
       "      <td>1.070672</td>\n",
       "      <td>40.708136</td>\n",
       "      <td>0.278883</td>\n",
       "    </tr>\n",
       "    <tr>\n",
       "      <th>min</th>\n",
       "      <td>0.080000</td>\n",
       "      <td>0.00000</td>\n",
       "      <td>0.000000</td>\n",
       "      <td>10.010000</td>\n",
       "      <td>3.500000</td>\n",
       "      <td>80.000000</td>\n",
       "      <td>0.000000</td>\n",
       "    </tr>\n",
       "    <tr>\n",
       "      <th>25%</th>\n",
       "      <td>24.000000</td>\n",
       "      <td>0.00000</td>\n",
       "      <td>0.000000</td>\n",
       "      <td>23.630000</td>\n",
       "      <td>4.800000</td>\n",
       "      <td>100.000000</td>\n",
       "      <td>0.000000</td>\n",
       "    </tr>\n",
       "    <tr>\n",
       "      <th>50%</th>\n",
       "      <td>43.000000</td>\n",
       "      <td>0.00000</td>\n",
       "      <td>0.000000</td>\n",
       "      <td>27.320000</td>\n",
       "      <td>5.800000</td>\n",
       "      <td>140.000000</td>\n",
       "      <td>0.000000</td>\n",
       "    </tr>\n",
       "    <tr>\n",
       "      <th>75%</th>\n",
       "      <td>60.000000</td>\n",
       "      <td>0.00000</td>\n",
       "      <td>0.000000</td>\n",
       "      <td>29.580000</td>\n",
       "      <td>6.200000</td>\n",
       "      <td>159.000000</td>\n",
       "      <td>0.000000</td>\n",
       "    </tr>\n",
       "    <tr>\n",
       "      <th>max</th>\n",
       "      <td>80.000000</td>\n",
       "      <td>1.00000</td>\n",
       "      <td>1.000000</td>\n",
       "      <td>95.690000</td>\n",
       "      <td>9.000000</td>\n",
       "      <td>300.000000</td>\n",
       "      <td>1.000000</td>\n",
       "    </tr>\n",
       "  </tbody>\n",
       "</table>\n",
       "</div>"
      ],
      "text/plain": [
       "                 age  hypertension  heart_disease            bmi  \\\n",
       "count  100000.000000  100000.00000  100000.000000  100000.000000   \n",
       "mean       41.885856       0.07485       0.039420      27.320767   \n",
       "std        22.516840       0.26315       0.194593       6.636783   \n",
       "min         0.080000       0.00000       0.000000      10.010000   \n",
       "25%        24.000000       0.00000       0.000000      23.630000   \n",
       "50%        43.000000       0.00000       0.000000      27.320000   \n",
       "75%        60.000000       0.00000       0.000000      29.580000   \n",
       "max        80.000000       1.00000       1.000000      95.690000   \n",
       "\n",
       "         HbA1c_level  blood_glucose_level       diabetes  \n",
       "count  100000.000000        100000.000000  100000.000000  \n",
       "mean        5.527507           138.058060       0.085000  \n",
       "std         1.070672            40.708136       0.278883  \n",
       "min         3.500000            80.000000       0.000000  \n",
       "25%         4.800000           100.000000       0.000000  \n",
       "50%         5.800000           140.000000       0.000000  \n",
       "75%         6.200000           159.000000       0.000000  \n",
       "max         9.000000           300.000000       1.000000  "
      ]
     },
     "execution_count": 7,
     "metadata": {},
     "output_type": "execute_result"
    }
   ],
   "source": [
    "data.describe()"
   ]
  },
  {
   "cell_type": "code",
   "execution_count": 8,
   "id": "3c9a18ea",
   "metadata": {},
   "outputs": [
    {
     "data": {
      "text/plain": [
       "gender                 0\n",
       "age                    0\n",
       "hypertension           0\n",
       "heart_disease          0\n",
       "smoking_history        0\n",
       "bmi                    0\n",
       "HbA1c_level            0\n",
       "blood_glucose_level    0\n",
       "diabetes               0\n",
       "dtype: int64"
      ]
     },
     "execution_count": 8,
     "metadata": {},
     "output_type": "execute_result"
    }
   ],
   "source": [
    "data.isnull().sum()"
   ]
  },
  {
   "cell_type": "markdown",
   "id": "15445e65",
   "metadata": {},
   "source": [
    "##### We can se that there are no null values"
   ]
  },
  {
   "cell_type": "code",
   "execution_count": 9,
   "id": "7a47a052",
   "metadata": {},
   "outputs": [
    {
     "data": {
      "text/plain": [
       "3854"
      ]
     },
     "execution_count": 9,
     "metadata": {},
     "output_type": "execute_result"
    }
   ],
   "source": [
    "data.duplicated().sum()"
   ]
  },
  {
   "cell_type": "markdown",
   "id": "34c8cf09",
   "metadata": {},
   "source": [
    "#### We can see that we have 3854 duplicated data"
   ]
  },
  {
   "cell_type": "markdown",
   "id": "3f1b147b",
   "metadata": {},
   "source": [
    "### Data cleaning"
   ]
  },
  {
   "cell_type": "code",
   "execution_count": 10,
   "id": "394165ee",
   "metadata": {},
   "outputs": [],
   "source": [
    "data=data.drop_duplicates()"
   ]
  },
  {
   "cell_type": "code",
   "execution_count": 11,
   "id": "3f9ea2ff",
   "metadata": {},
   "outputs": [
    {
     "data": {
      "text/plain": [
       "0"
      ]
     },
     "execution_count": 11,
     "metadata": {},
     "output_type": "execute_result"
    }
   ],
   "source": [
    "data.duplicated().sum()"
   ]
  },
  {
   "cell_type": "markdown",
   "id": "62cbfb4d",
   "metadata": {},
   "source": [
    "#### We have successfully removed all the duplicated data"
   ]
  },
  {
   "cell_type": "code",
   "execution_count": 12,
   "id": "877c189f",
   "metadata": {},
   "outputs": [
    {
     "data": {
      "text/plain": [
       "gender\n",
       "Female    56161\n",
       "Male      39967\n",
       "Other        18\n",
       "Name: count, dtype: int64"
      ]
     },
     "execution_count": 12,
     "metadata": {},
     "output_type": "execute_result"
    }
   ],
   "source": [
    "data[\"gender\"].value_counts()"
   ]
  },
  {
   "cell_type": "markdown",
   "id": "73da31e3",
   "metadata": {},
   "source": [
    "#### We have a 3rd category in the Gender which is \"other\" so we need to drop it"
   ]
  },
  {
   "cell_type": "code",
   "execution_count": 13,
   "id": "65ea3b36",
   "metadata": {},
   "outputs": [
    {
     "data": {
      "text/plain": [
       "Index([12669, 14838, 16702, 18691, 23266, 31985, 33805, 34929, 35006, 40337,\n",
       "       56238, 66595, 66887, 67204, 68484, 71139, 75302, 75734],\n",
       "      dtype='int64')"
      ]
     },
     "execution_count": 13,
     "metadata": {},
     "output_type": "execute_result"
    }
   ],
   "source": [
    "data[data['gender']=='Other'].index"
   ]
  },
  {
   "cell_type": "markdown",
   "id": "f1101319",
   "metadata": {},
   "source": [
    "#### Dropping the rows that have category \"other\""
   ]
  },
  {
   "cell_type": "code",
   "execution_count": 14,
   "id": "66a025fa",
   "metadata": {},
   "outputs": [],
   "source": [
    "data.drop(data[data['gender']=='Other'].index, inplace=True)"
   ]
  },
  {
   "cell_type": "code",
   "execution_count": 15,
   "id": "133c987b",
   "metadata": {},
   "outputs": [
    {
     "data": {
      "text/plain": [
       "gender\n",
       "Female    56161\n",
       "Male      39967\n",
       "Name: count, dtype: int64"
      ]
     },
     "execution_count": 15,
     "metadata": {},
     "output_type": "execute_result"
    }
   ],
   "source": [
    "data[\"gender\"].value_counts()"
   ]
  },
  {
   "cell_type": "code",
   "execution_count": 16,
   "id": "c0e3c691",
   "metadata": {},
   "outputs": [
    {
     "data": {
      "text/plain": [
       "array(['never', 'No Info', 'current', 'former', 'ever', 'not current'],\n",
       "      dtype=object)"
      ]
     },
     "execution_count": 16,
     "metadata": {},
     "output_type": "execute_result"
    }
   ],
   "source": [
    "data[\"smoking_history\"].unique()"
   ]
  },
  {
   "cell_type": "markdown",
   "id": "1b1fecb9",
   "metadata": {},
   "source": [
    "#### We are assigning new values to the unique values of \"smoking_history\" so that we have only 3 categories"
   ]
  },
  {
   "cell_type": "code",
   "execution_count": 17,
   "id": "e9f7d127",
   "metadata": {},
   "outputs": [],
   "source": [
    "new_categories = {\"never\": \"Not smoke\", \"No Info\": \"Not smoke\", \"current\": \"Smokes\", \"ever\": \"Smokes\", \"former\": \"Ex smoker\", \"not current\": \"Ex smoker\"}\n",
    "data['smoking_history']= data['smoking_history'].map(new_categories)"
   ]
  },
  {
   "cell_type": "code",
   "execution_count": 18,
   "id": "f0a77f66",
   "metadata": {},
   "outputs": [
    {
     "data": {
      "text/plain": [
       "array(['Not smoke', 'Smokes', 'Ex smoker'], dtype=object)"
      ]
     },
     "execution_count": 18,
     "metadata": {},
     "output_type": "execute_result"
    }
   ],
   "source": [
    "data[\"smoking_history\"].unique()"
   ]
  },
  {
   "cell_type": "markdown",
   "id": "07d84522",
   "metadata": {},
   "source": [
    "## Exploratory data analysis"
   ]
  },
  {
   "cell_type": "markdown",
   "id": "c856353a",
   "metadata": {},
   "source": [
    "##### Encoding the gender column which has only 2 categories"
   ]
  },
  {
   "cell_type": "code",
   "execution_count": 19,
   "id": "5133cc24",
   "metadata": {},
   "outputs": [],
   "source": [
    "from sklearn.preprocessing import LabelEncoder\n",
    "enc=LabelEncoder()"
   ]
  },
  {
   "cell_type": "code",
   "execution_count": 20,
   "id": "987ad6e0",
   "metadata": {},
   "outputs": [],
   "source": [
    "gender=enc.fit_transform(data[\"gender\"])"
   ]
  },
  {
   "cell_type": "code",
   "execution_count": 21,
   "id": "5625f29b",
   "metadata": {},
   "outputs": [],
   "source": [
    "data[\"gender\"]=gender"
   ]
  },
  {
   "cell_type": "code",
   "execution_count": 22,
   "id": "2d16cc46",
   "metadata": {},
   "outputs": [
    {
     "data": {
      "text/html": [
       "<div>\n",
       "<style scoped>\n",
       "    .dataframe tbody tr th:only-of-type {\n",
       "        vertical-align: middle;\n",
       "    }\n",
       "\n",
       "    .dataframe tbody tr th {\n",
       "        vertical-align: top;\n",
       "    }\n",
       "\n",
       "    .dataframe thead th {\n",
       "        text-align: right;\n",
       "    }\n",
       "</style>\n",
       "<table border=\"1\" class=\"dataframe\">\n",
       "  <thead>\n",
       "    <tr style=\"text-align: right;\">\n",
       "      <th></th>\n",
       "      <th>gender</th>\n",
       "      <th>age</th>\n",
       "      <th>hypertension</th>\n",
       "      <th>heart_disease</th>\n",
       "      <th>smoking_history</th>\n",
       "      <th>bmi</th>\n",
       "      <th>HbA1c_level</th>\n",
       "      <th>blood_glucose_level</th>\n",
       "      <th>diabetes</th>\n",
       "    </tr>\n",
       "  </thead>\n",
       "  <tbody>\n",
       "    <tr>\n",
       "      <th>0</th>\n",
       "      <td>0</td>\n",
       "      <td>80.0</td>\n",
       "      <td>0</td>\n",
       "      <td>1</td>\n",
       "      <td>Not smoke</td>\n",
       "      <td>25.19</td>\n",
       "      <td>6.6</td>\n",
       "      <td>140</td>\n",
       "      <td>0</td>\n",
       "    </tr>\n",
       "    <tr>\n",
       "      <th>1</th>\n",
       "      <td>0</td>\n",
       "      <td>54.0</td>\n",
       "      <td>0</td>\n",
       "      <td>0</td>\n",
       "      <td>Not smoke</td>\n",
       "      <td>27.32</td>\n",
       "      <td>6.6</td>\n",
       "      <td>80</td>\n",
       "      <td>0</td>\n",
       "    </tr>\n",
       "    <tr>\n",
       "      <th>2</th>\n",
       "      <td>1</td>\n",
       "      <td>28.0</td>\n",
       "      <td>0</td>\n",
       "      <td>0</td>\n",
       "      <td>Not smoke</td>\n",
       "      <td>27.32</td>\n",
       "      <td>5.7</td>\n",
       "      <td>158</td>\n",
       "      <td>0</td>\n",
       "    </tr>\n",
       "    <tr>\n",
       "      <th>3</th>\n",
       "      <td>0</td>\n",
       "      <td>36.0</td>\n",
       "      <td>0</td>\n",
       "      <td>0</td>\n",
       "      <td>Smokes</td>\n",
       "      <td>23.45</td>\n",
       "      <td>5.0</td>\n",
       "      <td>155</td>\n",
       "      <td>0</td>\n",
       "    </tr>\n",
       "    <tr>\n",
       "      <th>4</th>\n",
       "      <td>1</td>\n",
       "      <td>76.0</td>\n",
       "      <td>1</td>\n",
       "      <td>1</td>\n",
       "      <td>Smokes</td>\n",
       "      <td>20.14</td>\n",
       "      <td>4.8</td>\n",
       "      <td>155</td>\n",
       "      <td>0</td>\n",
       "    </tr>\n",
       "  </tbody>\n",
       "</table>\n",
       "</div>"
      ],
      "text/plain": [
       "   gender   age  hypertension  heart_disease smoking_history    bmi  \\\n",
       "0       0  80.0             0              1       Not smoke  25.19   \n",
       "1       0  54.0             0              0       Not smoke  27.32   \n",
       "2       1  28.0             0              0       Not smoke  27.32   \n",
       "3       0  36.0             0              0          Smokes  23.45   \n",
       "4       1  76.0             1              1          Smokes  20.14   \n",
       "\n",
       "   HbA1c_level  blood_glucose_level  diabetes  \n",
       "0          6.6                  140         0  \n",
       "1          6.6                   80         0  \n",
       "2          5.7                  158         0  \n",
       "3          5.0                  155         0  \n",
       "4          4.8                  155         0  "
      ]
     },
     "execution_count": 22,
     "metadata": {},
     "output_type": "execute_result"
    }
   ],
   "source": [
    "data.head()"
   ]
  },
  {
   "cell_type": "markdown",
   "id": "2e6ea888",
   "metadata": {},
   "source": [
    "##### Searching for outliers"
   ]
  },
  {
   "cell_type": "code",
   "execution_count": 23,
   "id": "aa358522",
   "metadata": {},
   "outputs": [
    {
     "data": {
      "text/plain": [
       "<Axes: >"
      ]
     },
     "execution_count": 23,
     "metadata": {},
     "output_type": "execute_result"
    },
    {
     "data": {
      "image/png": "[encoded data removed]",
      "text/plain": [
       "<Figure size 640x480 with 1 Axes>"
      ]
     },
     "metadata": {},
     "output_type": "display_data"
    }
   ],
   "source": [
    "sns.boxplot(data[\"blood_glucose_level\"])"
   ]
  },
  {
   "cell_type": "markdown",
   "id": "7541b5df",
   "metadata": {},
   "source": [
    "#### Here we can see that the column \"blood_glucose_level\" has some outliers"
   ]
  },
  {
   "cell_type": "markdown",
   "id": "8cbf6c73",
   "metadata": {},
   "source": [
    "#### Removing the outliers"
   ]
  },
  {
   "cell_type": "code",
   "execution_count": 24,
   "id": "f153995d",
   "metadata": {},
   "outputs": [],
   "source": [
    "q1=data['blood_glucose_level'].quantile(0.25)\n",
    "q3=data['blood_glucose_level'].quantile(0.75)\n",
    "IQR=q3-q1"
   ]
  },
  {
   "cell_type": "code",
   "execution_count": 25,
   "id": "455db35a",
   "metadata": {},
   "outputs": [
    {
     "data": {
      "text/plain": [
       "(100.0, 159.0, 59.0)"
      ]
     },
     "execution_count": 25,
     "metadata": {},
     "output_type": "execute_result"
    }
   ],
   "source": [
    "q1,q3,IQR"
   ]
  },
  {
   "cell_type": "code",
   "execution_count": 26,
   "id": "e1f30986",
   "metadata": {},
   "outputs": [
    {
     "data": {
      "text/plain": [
       "(11.5, 247.5)"
      ]
     },
     "execution_count": 26,
     "metadata": {},
     "output_type": "execute_result"
    }
   ],
   "source": [
    "upper_limit=q3+(1.5*IQR)\n",
    "lower_limit=q1-(1.5*IQR)\n",
    "lower_limit,upper_limit"
   ]
  },
  {
   "cell_type": "code",
   "execution_count": 27,
   "id": "a078f906",
   "metadata": {},
   "outputs": [
    {
     "data": {
      "text/html": [
       "<div>\n",
       "<style scoped>\n",
       "    .dataframe tbody tr th:only-of-type {\n",
       "        vertical-align: middle;\n",
       "    }\n",
       "\n",
       "    .dataframe tbody tr th {\n",
       "        vertical-align: top;\n",
       "    }\n",
       "\n",
       "    .dataframe thead th {\n",
       "        text-align: right;\n",
       "    }\n",
       "</style>\n",
       "<table border=\"1\" class=\"dataframe\">\n",
       "  <thead>\n",
       "    <tr style=\"text-align: right;\">\n",
       "      <th></th>\n",
       "      <th>gender</th>\n",
       "      <th>age</th>\n",
       "      <th>hypertension</th>\n",
       "      <th>heart_disease</th>\n",
       "      <th>smoking_history</th>\n",
       "      <th>bmi</th>\n",
       "      <th>HbA1c_level</th>\n",
       "      <th>blood_glucose_level</th>\n",
       "      <th>diabetes</th>\n",
       "    </tr>\n",
       "  </thead>\n",
       "  <tbody>\n",
       "    <tr>\n",
       "      <th>38</th>\n",
       "      <td>1</td>\n",
       "      <td>50.0</td>\n",
       "      <td>1</td>\n",
       "      <td>0</td>\n",
       "      <td>Smokes</td>\n",
       "      <td>27.32</td>\n",
       "      <td>5.7</td>\n",
       "      <td>260</td>\n",
       "      <td>1</td>\n",
       "    </tr>\n",
       "    <tr>\n",
       "      <th>94</th>\n",
       "      <td>0</td>\n",
       "      <td>60.0</td>\n",
       "      <td>0</td>\n",
       "      <td>0</td>\n",
       "      <td>Not smoke</td>\n",
       "      <td>27.32</td>\n",
       "      <td>7.5</td>\n",
       "      <td>300</td>\n",
       "      <td>1</td>\n",
       "    </tr>\n",
       "    <tr>\n",
       "      <th>104</th>\n",
       "      <td>0</td>\n",
       "      <td>80.0</td>\n",
       "      <td>1</td>\n",
       "      <td>0</td>\n",
       "      <td>Not smoke</td>\n",
       "      <td>27.32</td>\n",
       "      <td>6.8</td>\n",
       "      <td>280</td>\n",
       "      <td>1</td>\n",
       "    </tr>\n",
       "    <tr>\n",
       "      <th>125</th>\n",
       "      <td>0</td>\n",
       "      <td>77.0</td>\n",
       "      <td>0</td>\n",
       "      <td>0</td>\n",
       "      <td>Not smoke</td>\n",
       "      <td>31.70</td>\n",
       "      <td>6.5</td>\n",
       "      <td>280</td>\n",
       "      <td>1</td>\n",
       "    </tr>\n",
       "    <tr>\n",
       "      <th>142</th>\n",
       "      <td>0</td>\n",
       "      <td>80.0</td>\n",
       "      <td>0</td>\n",
       "      <td>0</td>\n",
       "      <td>Ex smoker</td>\n",
       "      <td>21.97</td>\n",
       "      <td>7.0</td>\n",
       "      <td>300</td>\n",
       "      <td>1</td>\n",
       "    </tr>\n",
       "    <tr>\n",
       "      <th>...</th>\n",
       "      <td>...</td>\n",
       "      <td>...</td>\n",
       "      <td>...</td>\n",
       "      <td>...</td>\n",
       "      <td>...</td>\n",
       "      <td>...</td>\n",
       "      <td>...</td>\n",
       "      <td>...</td>\n",
       "      <td>...</td>\n",
       "    </tr>\n",
       "    <tr>\n",
       "      <th>99763</th>\n",
       "      <td>0</td>\n",
       "      <td>50.0</td>\n",
       "      <td>0</td>\n",
       "      <td>0</td>\n",
       "      <td>Not smoke</td>\n",
       "      <td>35.91</td>\n",
       "      <td>6.0</td>\n",
       "      <td>280</td>\n",
       "      <td>1</td>\n",
       "    </tr>\n",
       "    <tr>\n",
       "      <th>99826</th>\n",
       "      <td>1</td>\n",
       "      <td>63.0</td>\n",
       "      <td>0</td>\n",
       "      <td>1</td>\n",
       "      <td>Not smoke</td>\n",
       "      <td>27.32</td>\n",
       "      <td>6.6</td>\n",
       "      <td>300</td>\n",
       "      <td>1</td>\n",
       "    </tr>\n",
       "    <tr>\n",
       "      <th>99867</th>\n",
       "      <td>1</td>\n",
       "      <td>64.0</td>\n",
       "      <td>1</td>\n",
       "      <td>0</td>\n",
       "      <td>Ex smoker</td>\n",
       "      <td>33.12</td>\n",
       "      <td>5.7</td>\n",
       "      <td>300</td>\n",
       "      <td>1</td>\n",
       "    </tr>\n",
       "    <tr>\n",
       "      <th>99938</th>\n",
       "      <td>1</td>\n",
       "      <td>55.0</td>\n",
       "      <td>0</td>\n",
       "      <td>1</td>\n",
       "      <td>Ex smoker</td>\n",
       "      <td>30.42</td>\n",
       "      <td>6.2</td>\n",
       "      <td>300</td>\n",
       "      <td>1</td>\n",
       "    </tr>\n",
       "    <tr>\n",
       "      <th>99957</th>\n",
       "      <td>0</td>\n",
       "      <td>61.0</td>\n",
       "      <td>0</td>\n",
       "      <td>0</td>\n",
       "      <td>Not smoke</td>\n",
       "      <td>34.45</td>\n",
       "      <td>6.5</td>\n",
       "      <td>280</td>\n",
       "      <td>1</td>\n",
       "    </tr>\n",
       "  </tbody>\n",
       "</table>\n",
       "<p>2031 rows × 9 columns</p>\n",
       "</div>"
      ],
      "text/plain": [
       "       gender   age  hypertension  heart_disease smoking_history    bmi  \\\n",
       "38          1  50.0             1              0          Smokes  27.32   \n",
       "94          0  60.0             0              0       Not smoke  27.32   \n",
       "104         0  80.0             1              0       Not smoke  27.32   \n",
       "125         0  77.0             0              0       Not smoke  31.70   \n",
       "142         0  80.0             0              0       Ex smoker  21.97   \n",
       "...       ...   ...           ...            ...             ...    ...   \n",
       "99763       0  50.0             0              0       Not smoke  35.91   \n",
       "99826       1  63.0             0              1       Not smoke  27.32   \n",
       "99867       1  64.0             1              0       Ex smoker  33.12   \n",
       "99938       1  55.0             0              1       Ex smoker  30.42   \n",
       "99957       0  61.0             0              0       Not smoke  34.45   \n",
       "\n",
       "       HbA1c_level  blood_glucose_level  diabetes  \n",
       "38             5.7                  260         1  \n",
       "94             7.5                  300         1  \n",
       "104            6.8                  280         1  \n",
       "125            6.5                  280         1  \n",
       "142            7.0                  300         1  \n",
       "...            ...                  ...       ...  \n",
       "99763          6.0                  280         1  \n",
       "99826          6.6                  300         1  \n",
       "99867          5.7                  300         1  \n",
       "99938          6.2                  300         1  \n",
       "99957          6.5                  280         1  \n",
       "\n",
       "[2031 rows x 9 columns]"
      ]
     },
     "execution_count": 27,
     "metadata": {},
     "output_type": "execute_result"
    }
   ],
   "source": [
    "data.loc[(data['blood_glucose_level']> upper_limit) | (data['blood_glucose_level']< lower_limit)]"
   ]
  },
  {
   "cell_type": "code",
   "execution_count": 28,
   "id": "0151f8f3",
   "metadata": {},
   "outputs": [],
   "source": [
    "data=data.copy()\n",
    "data.loc[(data['blood_glucose_level']>upper_limit), 'blood_glucose_level']=upper_limit\n",
    "data.loc[(data['blood_glucose_level']<lower_limit), 'blood_glucose_level']=lower_limit"
   ]
  },
  {
   "cell_type": "code",
   "execution_count": 29,
   "id": "40bebc54",
   "metadata": {},
   "outputs": [
    {
     "data": {
      "text/plain": [
       "<Axes: >"
      ]
     },
     "execution_count": 29,
     "metadata": {},
     "output_type": "execute_result"
    },
    {
     "data": {
      "image/png": "[encoded data removed]",
      "text/plain": [
       "<Figure size 640x480 with 1 Axes>"
      ]
     },
     "metadata": {},
     "output_type": "display_data"
    }
   ],
   "source": [
    "sns.boxplot(data['blood_glucose_level'])"
   ]
  },
  {
   "cell_type": "markdown",
   "id": "c7cf1ce9",
   "metadata": {},
   "source": [
    "#### We have successfully removed the outliers"
   ]
  },
  {
   "cell_type": "code",
   "execution_count": 30,
   "id": "708ddc61",
   "metadata": {},
   "outputs": [
    {
     "data": {
      "text/plain": [
       "<Axes: >"
      ]
     },
     "execution_count": 30,
     "metadata": {},
     "output_type": "execute_result"
    },
    {
     "data": {
      "image/png": "[encoded data removed]",
      "text/plain": [
       "<Figure size 640x480 with 1 Axes>"
      ]
     },
     "metadata": {},
     "output_type": "display_data"
    }
   ],
   "source": [
    "sns.boxplot(data[\"bmi\"])"
   ]
  },
  {
   "cell_type": "markdown",
   "id": "d60298b0",
   "metadata": {},
   "source": [
    "#### Here we can clearly see that the column \"bmi\" has a lot of outliers which needs to be removed"
   ]
  },
  {
   "cell_type": "code",
   "execution_count": 31,
   "id": "b0e74c85",
   "metadata": {},
   "outputs": [],
   "source": [
    "q1=data['bmi'].quantile(0.25)\n",
    "q3=data['bmi'].quantile(0.75)\n",
    "IQR=q3-q1"
   ]
  },
  {
   "cell_type": "code",
   "execution_count": 32,
   "id": "11f14773",
   "metadata": {},
   "outputs": [
    {
     "data": {
      "text/plain": [
       "(23.4, 29.86, 6.460000000000001)"
      ]
     },
     "execution_count": 32,
     "metadata": {},
     "output_type": "execute_result"
    }
   ],
   "source": [
    "q1,q3,IQR"
   ]
  },
  {
   "cell_type": "code",
   "execution_count": 33,
   "id": "9f23fd7a",
   "metadata": {},
   "outputs": [
    {
     "data": {
      "text/plain": [
       "(13.709999999999997, 39.55)"
      ]
     },
     "execution_count": 33,
     "metadata": {},
     "output_type": "execute_result"
    }
   ],
   "source": [
    "upper_limit=q3+(1.5*IQR)\n",
    "lower_limit=q1-(1.5*IQR)\n",
    "lower_limit,upper_limit"
   ]
  },
  {
   "cell_type": "code",
   "execution_count": 34,
   "id": "088059fa",
   "metadata": {},
   "outputs": [
    {
     "data": {
      "text/html": [
       "<div>\n",
       "<style scoped>\n",
       "    .dataframe tbody tr th:only-of-type {\n",
       "        vertical-align: middle;\n",
       "    }\n",
       "\n",
       "    .dataframe tbody tr th {\n",
       "        vertical-align: top;\n",
       "    }\n",
       "\n",
       "    .dataframe thead th {\n",
       "        text-align: right;\n",
       "    }\n",
       "</style>\n",
       "<table border=\"1\" class=\"dataframe\">\n",
       "  <thead>\n",
       "    <tr style=\"text-align: right;\">\n",
       "      <th></th>\n",
       "      <th>gender</th>\n",
       "      <th>age</th>\n",
       "      <th>hypertension</th>\n",
       "      <th>heart_disease</th>\n",
       "      <th>smoking_history</th>\n",
       "      <th>bmi</th>\n",
       "      <th>HbA1c_level</th>\n",
       "      <th>blood_glucose_level</th>\n",
       "      <th>diabetes</th>\n",
       "    </tr>\n",
       "  </thead>\n",
       "  <tbody>\n",
       "    <tr>\n",
       "      <th>11</th>\n",
       "      <td>0</td>\n",
       "      <td>54.0</td>\n",
       "      <td>0</td>\n",
       "      <td>0</td>\n",
       "      <td>Ex smoker</td>\n",
       "      <td>54.70</td>\n",
       "      <td>6.0</td>\n",
       "      <td>100.0</td>\n",
       "      <td>0</td>\n",
       "    </tr>\n",
       "    <tr>\n",
       "      <th>39</th>\n",
       "      <td>0</td>\n",
       "      <td>34.0</td>\n",
       "      <td>0</td>\n",
       "      <td>0</td>\n",
       "      <td>Not smoke</td>\n",
       "      <td>56.43</td>\n",
       "      <td>6.2</td>\n",
       "      <td>200.0</td>\n",
       "      <td>0</td>\n",
       "    </tr>\n",
       "    <tr>\n",
       "      <th>59</th>\n",
       "      <td>0</td>\n",
       "      <td>67.0</td>\n",
       "      <td>0</td>\n",
       "      <td>0</td>\n",
       "      <td>Not smoke</td>\n",
       "      <td>63.48</td>\n",
       "      <td>8.8</td>\n",
       "      <td>155.0</td>\n",
       "      <td>1</td>\n",
       "    </tr>\n",
       "    <tr>\n",
       "      <th>93</th>\n",
       "      <td>1</td>\n",
       "      <td>38.0</td>\n",
       "      <td>0</td>\n",
       "      <td>0</td>\n",
       "      <td>Not smoke</td>\n",
       "      <td>55.61</td>\n",
       "      <td>6.5</td>\n",
       "      <td>130.0</td>\n",
       "      <td>0</td>\n",
       "    </tr>\n",
       "    <tr>\n",
       "      <th>98</th>\n",
       "      <td>0</td>\n",
       "      <td>30.0</td>\n",
       "      <td>0</td>\n",
       "      <td>0</td>\n",
       "      <td>Not smoke</td>\n",
       "      <td>50.13</td>\n",
       "      <td>6.0</td>\n",
       "      <td>100.0</td>\n",
       "      <td>0</td>\n",
       "    </tr>\n",
       "    <tr>\n",
       "      <th>...</th>\n",
       "      <td>...</td>\n",
       "      <td>...</td>\n",
       "      <td>...</td>\n",
       "      <td>...</td>\n",
       "      <td>...</td>\n",
       "      <td>...</td>\n",
       "      <td>...</td>\n",
       "      <td>...</td>\n",
       "      <td>...</td>\n",
       "    </tr>\n",
       "    <tr>\n",
       "      <th>99933</th>\n",
       "      <td>0</td>\n",
       "      <td>5.0</td>\n",
       "      <td>0</td>\n",
       "      <td>0</td>\n",
       "      <td>Not smoke</td>\n",
       "      <td>13.34</td>\n",
       "      <td>6.5</td>\n",
       "      <td>155.0</td>\n",
       "      <td>0</td>\n",
       "    </tr>\n",
       "    <tr>\n",
       "      <th>99948</th>\n",
       "      <td>0</td>\n",
       "      <td>56.0</td>\n",
       "      <td>1</td>\n",
       "      <td>0</td>\n",
       "      <td>Ex smoker</td>\n",
       "      <td>39.62</td>\n",
       "      <td>4.5</td>\n",
       "      <td>126.0</td>\n",
       "      <td>0</td>\n",
       "    </tr>\n",
       "    <tr>\n",
       "      <th>99953</th>\n",
       "      <td>0</td>\n",
       "      <td>59.0</td>\n",
       "      <td>1</td>\n",
       "      <td>0</td>\n",
       "      <td>Smokes</td>\n",
       "      <td>60.52</td>\n",
       "      <td>3.5</td>\n",
       "      <td>158.0</td>\n",
       "      <td>0</td>\n",
       "    </tr>\n",
       "    <tr>\n",
       "      <th>99960</th>\n",
       "      <td>0</td>\n",
       "      <td>47.0</td>\n",
       "      <td>0</td>\n",
       "      <td>0</td>\n",
       "      <td>Ex smoker</td>\n",
       "      <td>45.15</td>\n",
       "      <td>4.0</td>\n",
       "      <td>126.0</td>\n",
       "      <td>0</td>\n",
       "    </tr>\n",
       "    <tr>\n",
       "      <th>99993</th>\n",
       "      <td>0</td>\n",
       "      <td>40.0</td>\n",
       "      <td>0</td>\n",
       "      <td>0</td>\n",
       "      <td>Not smoke</td>\n",
       "      <td>40.69</td>\n",
       "      <td>3.5</td>\n",
       "      <td>155.0</td>\n",
       "      <td>0</td>\n",
       "    </tr>\n",
       "  </tbody>\n",
       "</table>\n",
       "<p>5354 rows × 9 columns</p>\n",
       "</div>"
      ],
      "text/plain": [
       "       gender   age  hypertension  heart_disease smoking_history    bmi  \\\n",
       "11          0  54.0             0              0       Ex smoker  54.70   \n",
       "39          0  34.0             0              0       Not smoke  56.43   \n",
       "59          0  67.0             0              0       Not smoke  63.48   \n",
       "93          1  38.0             0              0       Not smoke  55.61   \n",
       "98          0  30.0             0              0       Not smoke  50.13   \n",
       "...       ...   ...           ...            ...             ...    ...   \n",
       "99933       0   5.0             0              0       Not smoke  13.34   \n",
       "99948       0  56.0             1              0       Ex smoker  39.62   \n",
       "99953       0  59.0             1              0          Smokes  60.52   \n",
       "99960       0  47.0             0              0       Ex smoker  45.15   \n",
       "99993       0  40.0             0              0       Not smoke  40.69   \n",
       "\n",
       "       HbA1c_level  blood_glucose_level  diabetes  \n",
       "11             6.0                100.0         0  \n",
       "39             6.2                200.0         0  \n",
       "59             8.8                155.0         1  \n",
       "93             6.5                130.0         0  \n",
       "98             6.0                100.0         0  \n",
       "...            ...                  ...       ...  \n",
       "99933          6.5                155.0         0  \n",
       "99948          4.5                126.0         0  \n",
       "99953          3.5                158.0         0  \n",
       "99960          4.0                126.0         0  \n",
       "99993          3.5                155.0         0  \n",
       "\n",
       "[5354 rows x 9 columns]"
      ]
     },
     "execution_count": 34,
     "metadata": {},
     "output_type": "execute_result"
    }
   ],
   "source": [
    "data.loc[(data['bmi']> upper_limit) | (data['bmi']< lower_limit)]"
   ]
  },
  {
   "cell_type": "code",
   "execution_count": 35,
   "id": "52758f5a",
   "metadata": {},
   "outputs": [],
   "source": [
    "data=data.copy()\n",
    "data.loc[(data['bmi']>upper_limit), 'bmi']=upper_limit\n",
    "data.loc[(data['bmi']<lower_limit), 'bmi']=lower_limit"
   ]
  },
  {
   "cell_type": "code",
   "execution_count": 36,
   "id": "682ce6fa",
   "metadata": {},
   "outputs": [
    {
     "data": {
      "text/plain": [
       "<Axes: >"
      ]
     },
     "execution_count": 36,
     "metadata": {},
     "output_type": "execute_result"
    },
    {
     "data": {
      "image/png": "[encoded data removed]",
      "text/plain": [
       "<Figure size 640x480 with 1 Axes>"
      ]
     },
     "metadata": {},
     "output_type": "display_data"
    }
   ],
   "source": [
    "sns.boxplot(data['bmi'])"
   ]
  },
  {
   "cell_type": "markdown",
   "id": "2f57f21a",
   "metadata": {},
   "source": [
    "#### We have removed all the outliers of \"bmi\" column"
   ]
  },
  {
   "cell_type": "markdown",
   "id": "c468edaf",
   "metadata": {},
   "source": [
    "## Data visulaization"
   ]
  },
  {
   "cell_type": "code",
   "execution_count": 37,
   "id": "164bdcea",
   "metadata": {},
   "outputs": [
    {
     "data": {
      "image/png": "[encoded data removed]",
      "text/plain": [
       "<Figure size 900x900 with 3 Axes>"
      ]
     },
     "metadata": {},
     "output_type": "display_data"
    }
   ],
   "source": [
    "plt.figure(figsize=(9,9))\n",
    "plt.subplot(2,2,1)           \n",
    "sns.countplot(x='hypertension',hue='diabetes',data=data)\n",
    "plt.xticks([0,1],['No','Yes'])\n",
    "plt.legend(labels=['No','Yes'])\n",
    "plt.subplot(2,2,2)           \n",
    "sns.countplot(x='heart_disease',hue='diabetes',data=data)\n",
    "plt.xticks([0,1],['No','Yes'])\n",
    "plt.legend(labels=['No','Yes'])\n",
    "plt.subplot(2,2,3)           \n",
    "sns.countplot(x='smoking_history',hue='diabetes',data=data)\n",
    "plt.xticks([0,1,2],['Not smoke','Smokes','Ex smoker'])\n",
    "plt.legend(labels=['No','Yes'])\n",
    "plt.xticks(rotation=20)\n",
    "plt.show()"
   ]
  },
  {
   "cell_type": "markdown",
   "id": "9e855bec",
   "metadata": {},
   "source": [
    "#### We can see that around 7000 patients with no hypertension have diabetes whereas around 1500 patients with hypertension have stroke"
   ]
  },
  {
   "cell_type": "markdown",
   "id": "b7da1dfb",
   "metadata": {},
   "source": [
    "#### We can also see that around 8000 patients with no heart disease have diabetes whereas around 1000 patients with hear disease have diabetes"
   ]
  },
  {
   "cell_type": "markdown",
   "id": "74bd997f",
   "metadata": {},
   "source": [
    "#### We can also see that the non smokers category has the highest number of diabetic patients"
   ]
  },
  {
   "cell_type": "code",
   "execution_count": 38,
   "id": "f410d354",
   "metadata": {},
   "outputs": [
    {
     "data": {
      "text/plain": [
       "<Axes: xlabel='diabetes', ylabel='bmi'>"
      ]
     },
     "execution_count": 38,
     "metadata": {},
     "output_type": "execute_result"
    },
    {
     "data": {
      "image/png": "[encoded data removed]",
      "text/plain": [
       "<Figure size 640x480 with 1 Axes>"
      ]
     },
     "metadata": {},
     "output_type": "display_data"
    }
   ],
   "source": [
    "sns.barplot(x='diabetes',y='bmi',data=data)"
   ]
  },
  {
   "cell_type": "markdown",
   "id": "f7a6f5e9",
   "metadata": {},
   "source": [
    "#### Here we can infer that the average bmi of non-diabetic patients lies around 27 whereas the bmi of patients having diabetes is 30 or above"
   ]
  },
  {
   "cell_type": "code",
   "execution_count": 39,
   "id": "743d5ad6",
   "metadata": {},
   "outputs": [
    {
     "data": {
      "text/plain": [
       "<Axes: xlabel='diabetes', ylabel='HbA1c_level'>"
      ]
     },
     "execution_count": 39,
     "metadata": {},
     "output_type": "execute_result"
    },
    {
     "data": {
      "image/png": "[encoded data removed]",
      "text/plain": [
       "<Figure size 640x480 with 1 Axes>"
      ]
     },
     "metadata": {},
     "output_type": "display_data"
    }
   ],
   "source": [
    "sns.barplot(x='diabetes',y='HbA1c_level',data=data)"
   ]
  },
  {
   "cell_type": "markdown",
   "id": "fafea6dd",
   "metadata": {},
   "source": [
    "#### Here we can infer that the average HbA1c level of non-diabetic patients lies around 5.5 whereas the HbA1c level of patients having diabetes is close to 7 "
   ]
  },
  {
   "cell_type": "code",
   "execution_count": 40,
   "id": "e0806821",
   "metadata": {},
   "outputs": [
    {
     "data": {
      "text/plain": [
       "<Axes: xlabel='diabetes', ylabel='blood_glucose_level'>"
      ]
     },
     "execution_count": 40,
     "metadata": {},
     "output_type": "execute_result"
    },
    {
     "data": {
      "image/png": "[encoded data removed]",
      "text/plain": [
       "<Figure size 640x480 with 1 Axes>"
      ]
     },
     "metadata": {},
     "output_type": "display_data"
    }
   ],
   "source": [
    "sns.barplot(x='diabetes',y='blood_glucose_level',data=data)"
   ]
  },
  {
   "cell_type": "markdown",
   "id": "c746b0ef",
   "metadata": {},
   "source": [
    "#### We can see that the average blood glucose level of non-diabetic patients is 130 and the same for diabetic patients is around 180 "
   ]
  },
  {
   "cell_type": "code",
   "execution_count": 41,
   "id": "0bf9cd43",
   "metadata": {},
   "outputs": [
    {
     "data": {
      "image/png": "[encoded data removed]",
      "text/plain": [
       "<Figure size 640x480 with 1 Axes>"
      ]
     },
     "metadata": {},
     "output_type": "display_data"
    }
   ],
   "source": [
    "sns.countplot(x=data[\"gender\"], hue=data['diabetes'])\n",
    "plt.xticks([0,1],['Female','Male'])\n",
    "plt.legend(labels=['No','Yes'])\n",
    "plt.show()"
   ]
  },
  {
   "cell_type": "markdown",
   "id": "9cd46342",
   "metadata": {},
   "source": [
    "#### Here we can infer that the count of diabetic female patients is slightly more than that of male diabetic patients"
   ]
  },
  {
   "cell_type": "code",
   "execution_count": 42,
   "id": "226736c4",
   "metadata": {},
   "outputs": [
    {
     "name": "stderr",
     "output_type": "stream",
     "text": [
      "C:\\Users\\SIMRAN SHAIKH\\AppData\\Local\\Temp\\ipykernel_27820\\1756042454.py:2: UserWarning: \n",
      "\n",
      "`distplot` is a deprecated function and will be removed in seaborn v0.14.0.\n",
      "\n",
      "Please adapt your code to use either `displot` (a figure-level function with\n",
      "similar flexibility) or `histplot` (an axes-level function for histograms).\n",
      "\n",
      "For a guide to updating your code to use the new functions, please see\n",
      "https://gist.github.com/mwaskom/de44147ed2974457ad6372750bbe5751\n",
      "\n",
      "  sns.distplot(data[data['diabetes'] == 0][\"age\"], color='green', label='No Diabetes')\n",
      "C:\\Users\\SIMRAN SHAIKH\\AppData\\Local\\Temp\\ipykernel_27820\\1756042454.py:3: UserWarning: \n",
      "\n",
      "`distplot` is a deprecated function and will be removed in seaborn v0.14.0.\n",
      "\n",
      "Please adapt your code to use either `displot` (a figure-level function with\n",
      "similar flexibility) or `histplot` (an axes-level function for histograms).\n",
      "\n",
      "For a guide to updating your code to use the new functions, please see\n",
      "https://gist.github.com/mwaskom/de44147ed2974457ad6372750bbe5751\n",
      "\n",
      "  sns.distplot(data[data['diabetes'] == 1][\"age\"], color='red', label='Diabetes')\n"
     ]
    },
    {
     "data": {
      "image/png": "[encoded data removed]",
      "text/plain": [
       "<Figure size 700x700 with 1 Axes>"
      ]
     },
     "metadata": {},
     "output_type": "display_data"
    }
   ],
   "source": [
    "plt.figure(figsize=(7,7))\n",
    "sns.distplot(data[data['diabetes'] == 0][\"age\"], color='green', label='No Diabetes')\n",
    "sns.distplot(data[data['diabetes'] == 1][\"age\"], color='red', label='Diabetes')\n",
    "plt.title('No Diabetes vs Diabetes by Age', fontsize=15)\n",
    "plt.legend()\n",
    "plt.show()"
   ]
  },
  {
   "cell_type": "markdown",
   "id": "845b0d0a",
   "metadata": {},
   "source": [
    "#### Here we can clearly see that most of the patients who don't have diabetes lie in the age between 1-40 whereas the patients having diabetes lie in the age between 55-80. We can infer that old aged people are likely to get diabetes "
   ]
  },
  {
   "cell_type": "markdown",
   "id": "54c0a45b",
   "metadata": {},
   "source": [
    "#### Encoding the column \"smoking_history\" which has more than 2 categories"
   ]
  },
  {
   "cell_type": "code",
   "execution_count": 43,
   "id": "67d521ff",
   "metadata": {},
   "outputs": [],
   "source": [
    "smoke_hist=pd.get_dummies(data[\"smoking_history\"],drop_first=True)"
   ]
  },
  {
   "cell_type": "code",
   "execution_count": 44,
   "id": "42c404c0",
   "metadata": {},
   "outputs": [],
   "source": [
    "data=pd.concat([data,smoke_hist],axis=1)"
   ]
  },
  {
   "cell_type": "code",
   "execution_count": 45,
   "id": "0a53b17d",
   "metadata": {},
   "outputs": [],
   "source": [
    "data.drop([\"smoking_history\"],axis=1,inplace=True)"
   ]
  },
  {
   "cell_type": "code",
   "execution_count": 46,
   "id": "c66770f8",
   "metadata": {},
   "outputs": [
    {
     "data": {
      "text/html": [
       "<div>\n",
       "<style scoped>\n",
       "    .dataframe tbody tr th:only-of-type {\n",
       "        vertical-align: middle;\n",
       "    }\n",
       "\n",
       "    .dataframe tbody tr th {\n",
       "        vertical-align: top;\n",
       "    }\n",
       "\n",
       "    .dataframe thead th {\n",
       "        text-align: right;\n",
       "    }\n",
       "</style>\n",
       "<table border=\"1\" class=\"dataframe\">\n",
       "  <thead>\n",
       "    <tr style=\"text-align: right;\">\n",
       "      <th></th>\n",
       "      <th>gender</th>\n",
       "      <th>age</th>\n",
       "      <th>hypertension</th>\n",
       "      <th>heart_disease</th>\n",
       "      <th>bmi</th>\n",
       "      <th>HbA1c_level</th>\n",
       "      <th>blood_glucose_level</th>\n",
       "      <th>diabetes</th>\n",
       "      <th>Not smoke</th>\n",
       "      <th>Smokes</th>\n",
       "    </tr>\n",
       "  </thead>\n",
       "  <tbody>\n",
       "    <tr>\n",
       "      <th>0</th>\n",
       "      <td>0</td>\n",
       "      <td>80.0</td>\n",
       "      <td>0</td>\n",
       "      <td>1</td>\n",
       "      <td>25.19</td>\n",
       "      <td>6.6</td>\n",
       "      <td>140.0</td>\n",
       "      <td>0</td>\n",
       "      <td>True</td>\n",
       "      <td>False</td>\n",
       "    </tr>\n",
       "    <tr>\n",
       "      <th>1</th>\n",
       "      <td>0</td>\n",
       "      <td>54.0</td>\n",
       "      <td>0</td>\n",
       "      <td>0</td>\n",
       "      <td>27.32</td>\n",
       "      <td>6.6</td>\n",
       "      <td>80.0</td>\n",
       "      <td>0</td>\n",
       "      <td>True</td>\n",
       "      <td>False</td>\n",
       "    </tr>\n",
       "    <tr>\n",
       "      <th>2</th>\n",
       "      <td>1</td>\n",
       "      <td>28.0</td>\n",
       "      <td>0</td>\n",
       "      <td>0</td>\n",
       "      <td>27.32</td>\n",
       "      <td>5.7</td>\n",
       "      <td>158.0</td>\n",
       "      <td>0</td>\n",
       "      <td>True</td>\n",
       "      <td>False</td>\n",
       "    </tr>\n",
       "    <tr>\n",
       "      <th>3</th>\n",
       "      <td>0</td>\n",
       "      <td>36.0</td>\n",
       "      <td>0</td>\n",
       "      <td>0</td>\n",
       "      <td>23.45</td>\n",
       "      <td>5.0</td>\n",
       "      <td>155.0</td>\n",
       "      <td>0</td>\n",
       "      <td>False</td>\n",
       "      <td>True</td>\n",
       "    </tr>\n",
       "    <tr>\n",
       "      <th>4</th>\n",
       "      <td>1</td>\n",
       "      <td>76.0</td>\n",
       "      <td>1</td>\n",
       "      <td>1</td>\n",
       "      <td>20.14</td>\n",
       "      <td>4.8</td>\n",
       "      <td>155.0</td>\n",
       "      <td>0</td>\n",
       "      <td>False</td>\n",
       "      <td>True</td>\n",
       "    </tr>\n",
       "  </tbody>\n",
       "</table>\n",
       "</div>"
      ],
      "text/plain": [
       "   gender   age  hypertension  heart_disease    bmi  HbA1c_level  \\\n",
       "0       0  80.0             0              1  25.19          6.6   \n",
       "1       0  54.0             0              0  27.32          6.6   \n",
       "2       1  28.0             0              0  27.32          5.7   \n",
       "3       0  36.0             0              0  23.45          5.0   \n",
       "4       1  76.0             1              1  20.14          4.8   \n",
       "\n",
       "   blood_glucose_level  diabetes  Not smoke  Smokes  \n",
       "0                140.0         0       True   False  \n",
       "1                 80.0         0       True   False  \n",
       "2                158.0         0       True   False  \n",
       "3                155.0         0      False    True  \n",
       "4                155.0         0      False    True  "
      ]
     },
     "execution_count": 46,
     "metadata": {},
     "output_type": "execute_result"
    }
   ],
   "source": [
    "data.head()"
   ]
  },
  {
   "cell_type": "code",
   "execution_count": 47,
   "id": "017c6186",
   "metadata": {},
   "outputs": [
    {
     "data": {
      "text/plain": [
       "diabetes\n",
       "0    87646\n",
       "1     8482\n",
       "Name: count, dtype: int64"
      ]
     },
     "execution_count": 47,
     "metadata": {},
     "output_type": "execute_result"
    }
   ],
   "source": [
    "data['diabetes'].value_counts()"
   ]
  },
  {
   "cell_type": "code",
   "execution_count": 48,
   "id": "8bfa290d",
   "metadata": {},
   "outputs": [
    {
     "data": {
      "image/png": "[encoded data removed]",
      "text/plain": [
       "<Figure size 800x500 with 1 Axes>"
      ]
     },
     "metadata": {},
     "output_type": "display_data"
    }
   ],
   "source": [
    "plt.figure(figsize=(8,5))\n",
    "plt.title('Diabetes vs No Diabetes')\n",
    "plt.pie(data['diabetes'].value_counts(),labels=[\"No Diabetes\",'Diabetes'],autopct=\"'%.2f'\")\n",
    "plt.show()"
   ]
  },
  {
   "cell_type": "markdown",
   "id": "44cde6c9",
   "metadata": {},
   "source": [
    "#### Here we can infer that our data has 91% non-diabetic patients and only 9% diabetic patients which means our data is imbalanced and will create biasness in predicting the diabetes. We need to use sampling techniques to balance the data"
   ]
  },
  {
   "cell_type": "code",
   "execution_count": 49,
   "id": "fa505f19",
   "metadata": {},
   "outputs": [],
   "source": [
    "count_class_0,count_class_1=data.diabetes.value_counts()\n",
    "df_class_0=data[data[\"diabetes\"]==0]\n",
    "df_class_1=data[data[\"diabetes\"]==1]"
   ]
  },
  {
   "cell_type": "code",
   "execution_count": 50,
   "id": "5764de7f",
   "metadata": {},
   "outputs": [
    {
     "data": {
      "text/plain": [
       "(87646, 8482)"
      ]
     },
     "execution_count": 50,
     "metadata": {},
     "output_type": "execute_result"
    }
   ],
   "source": [
    "count_class_0,count_class_1"
   ]
  },
  {
   "cell_type": "markdown",
   "id": "ea4b44a1",
   "metadata": {},
   "source": [
    "#### Here we can see that we have 87646 non diabetic patients and only 8482 diabetic patients"
   ]
  },
  {
   "cell_type": "code",
   "execution_count": 51,
   "id": "fb005db2",
   "metadata": {},
   "outputs": [
    {
     "data": {
      "text/plain": [
       "(87646, 10)"
      ]
     },
     "execution_count": 51,
     "metadata": {},
     "output_type": "execute_result"
    }
   ],
   "source": [
    "df_class_0.shape"
   ]
  },
  {
   "cell_type": "code",
   "execution_count": 52,
   "id": "a3c03644",
   "metadata": {},
   "outputs": [
    {
     "data": {
      "text/plain": [
       "(8482, 10)"
      ]
     },
     "execution_count": 52,
     "metadata": {},
     "output_type": "execute_result"
    }
   ],
   "source": [
    "df_class_1.shape"
   ]
  },
  {
   "cell_type": "markdown",
   "id": "06d111ef",
   "metadata": {},
   "source": [
    "#### Here we are using under sampling technique because when we are using over sampling technique, we are generating 87646 data for both diabetic and non diabetic patients so the jupyter notebook is not able to handle such huge amount of data and the notebook is getting lagged"
   ]
  },
  {
   "cell_type": "markdown",
   "id": "f519fd25",
   "metadata": {},
   "source": [
    "#### Creating the undersamping data"
   ]
  },
  {
   "cell_type": "code",
   "execution_count": 53,
   "id": "e95a7308",
   "metadata": {},
   "outputs": [],
   "source": [
    "df_class_0_under=df_class_0.sample(count_class_1)"
   ]
  },
  {
   "cell_type": "code",
   "execution_count": 54,
   "id": "7f25d214",
   "metadata": {},
   "outputs": [
    {
     "data": {
      "text/plain": [
       "diabetes\n",
       "0    8482\n",
       "1    8482\n",
       "Name: count, dtype: int64"
      ]
     },
     "execution_count": 54,
     "metadata": {},
     "output_type": "execute_result"
    }
   ],
   "source": [
    "df_test_under=pd.concat([df_class_0_under,df_class_1],axis=0)\n",
    "df_test_under.diabetes.value_counts()"
   ]
  },
  {
   "cell_type": "markdown",
   "id": "cf37bea2",
   "metadata": {},
   "source": [
    "#### Here we have overcome the imbalanced data condition by undersampling technique and now we have equal number of diabetic and non-diabeteic patients"
   ]
  },
  {
   "cell_type": "markdown",
   "id": "3f3b47a6",
   "metadata": {},
   "source": [
    "### Building the model with the undersamped data"
   ]
  },
  {
   "cell_type": "code",
   "execution_count": 55,
   "id": "30ed44ec",
   "metadata": {},
   "outputs": [],
   "source": [
    "x=df_test_under.drop(\"diabetes\",axis=1)\n",
    "y=df_test_under['diabetes']"
   ]
  },
  {
   "cell_type": "code",
   "execution_count": 56,
   "id": "9d762de6",
   "metadata": {},
   "outputs": [],
   "source": [
    "from sklearn.model_selection import train_test_split"
   ]
  },
  {
   "cell_type": "code",
   "execution_count": 57,
   "id": "b6b3a497",
   "metadata": {},
   "outputs": [],
   "source": [
    "x_train, x_test, y_train, y_test = train_test_split(x, y, test_size=0.3, random_state=10)"
   ]
  },
  {
   "cell_type": "markdown",
   "id": "aa10a666",
   "metadata": {},
   "source": [
    "### 1) Logistic Regression"
   ]
  },
  {
   "cell_type": "code",
   "execution_count": 58,
   "id": "3cbaafee",
   "metadata": {},
   "outputs": [],
   "source": [
    "from sklearn.linear_model import LogisticRegression"
   ]
  },
  {
   "cell_type": "code",
   "execution_count": 59,
   "id": "bb3fb19b",
   "metadata": {},
   "outputs": [
    {
     "name": "stderr",
     "output_type": "stream",
     "text": [
      "C:\\Users\\SIMRAN SHAIKH\\anaconda3\\Lib\\site-packages\\sklearn\\linear_model\\_logistic.py:460: ConvergenceWarning: lbfgs failed to converge (status=1):\n",
      "STOP: TOTAL NO. of ITERATIONS REACHED LIMIT.\n",
      "\n",
      "Increase the number of iterations (max_iter) or scale the data as shown in:\n",
      "    https://scikit-learn.org/stable/modules/preprocessing.html\n",
      "Please also refer to the documentation for alternative solver options:\n",
      "    https://scikit-learn.org/stable/modules/linear_model.html#logistic-regression\n",
      "  n_iter_i = _check_optimize_result(\n"
     ]
    }
   ],
   "source": [
    "logreg = LogisticRegression()\n",
    "logreg.fit(x_train, y_train)\n",
    "y_pred_1 = logreg.predict(x_test)"
   ]
  },
  {
   "cell_type": "markdown",
   "id": "7c396b87",
   "metadata": {},
   "source": [
    "#### Printing classification report"
   ]
  },
  {
   "cell_type": "code",
   "execution_count": 60,
   "id": "6d7fccab",
   "metadata": {},
   "outputs": [],
   "source": [
    "from sklearn.metrics import classification_report,accuracy_score"
   ]
  },
  {
   "cell_type": "code",
   "execution_count": 61,
   "id": "67ae2e6e",
   "metadata": {},
   "outputs": [
    {
     "name": "stdout",
     "output_type": "stream",
     "text": [
      "              precision    recall  f1-score   support\n",
      "\n",
      "           0       0.86      0.86      0.86      2558\n",
      "           1       0.86      0.85      0.86      2532\n",
      "\n",
      "    accuracy                           0.86      5090\n",
      "   macro avg       0.86      0.86      0.86      5090\n",
      "weighted avg       0.86      0.86      0.86      5090\n",
      "\n"
     ]
    }
   ],
   "source": [
    "print(classification_report(y_test,y_pred_1))"
   ]
  },
  {
   "cell_type": "markdown",
   "id": "85d8c974",
   "metadata": {},
   "source": [
    "### Hyperparameter tuning for Logistic Regression"
   ]
  },
  {
   "cell_type": "code",
   "execution_count": 62,
   "id": "4a2048c1",
   "metadata": {},
   "outputs": [],
   "source": [
    "param_grid_1=[{\"penalty\":[\"l1\",\"l2\",\"none\"],\n",
    "            \"C\":np.logspace(4,15),\n",
    "            \"solver\":[\"lbfgs\",\"liblinear\"],\n",
    "            \"max_iter\":[5,10,20]}]"
   ]
  },
  {
   "cell_type": "code",
   "execution_count": 63,
   "id": "bbbcdaa9",
   "metadata": {},
   "outputs": [],
   "source": [
    "from sklearn.model_selection import GridSearchCV"
   ]
  },
  {
   "cell_type": "code",
   "execution_count": 64,
   "id": "405a4033",
   "metadata": {},
   "outputs": [],
   "source": [
    "clf_1=GridSearchCV(logreg,param_grid=param_grid_1,cv=3,verbose=True,n_jobs=-1)"
   ]
  },
  {
   "cell_type": "code",
   "execution_count": 65,
   "id": "7fc6584a",
   "metadata": {},
   "outputs": [
    {
     "name": "stdout",
     "output_type": "stream",
     "text": [
      "Fitting 3 folds for each of 900 candidates, totalling 2700 fits\n"
     ]
    },
    {
     "name": "stderr",
     "output_type": "stream",
     "text": [
      "C:\\Users\\SIMRAN SHAIKH\\anaconda3\\Lib\\site-packages\\sklearn\\model_selection\\_validation.py:425: FitFailedWarning: \n",
      "900 fits failed out of a total of 2700.\n",
      "The score on these train-test partitions for these parameters will be set to nan.\n",
      "If these failures are not expected, you can try to debug them by setting error_score='raise'.\n",
      "\n",
      "Below are more details about the failures:\n",
      "--------------------------------------------------------------------------------\n",
      "450 fits failed with the following error:\n",
      "Traceback (most recent call last):\n",
      "  File \"C:\\Users\\SIMRAN SHAIKH\\anaconda3\\Lib\\site-packages\\sklearn\\model_selection\\_validation.py\", line 732, in _fit_and_score\n",
      "    estimator.fit(X_train, y_train, **fit_params)\n",
      "  File \"C:\\Users\\SIMRAN SHAIKH\\anaconda3\\Lib\\site-packages\\sklearn\\base.py\", line 1151, in wrapper\n",
      "    return fit_method(estimator, *args, **kwargs)\n",
      "           ^^^^^^^^^^^^^^^^^^^^^^^^^^^^^^^^^^^^^^\n",
      "  File \"C:\\Users\\SIMRAN SHAIKH\\anaconda3\\Lib\\site-packages\\sklearn\\linear_model\\_logistic.py\", line 1168, in fit\n",
      "    solver = _check_solver(self.solver, self.penalty, self.dual)\n",
      "             ^^^^^^^^^^^^^^^^^^^^^^^^^^^^^^^^^^^^^^^^^^^^^^^^^^^\n",
      "  File \"C:\\Users\\SIMRAN SHAIKH\\anaconda3\\Lib\\site-packages\\sklearn\\linear_model\\_logistic.py\", line 56, in _check_solver\n",
      "    raise ValueError(\n",
      "ValueError: Solver lbfgs supports only 'l2' or 'none' penalties, got l1 penalty.\n",
      "\n",
      "--------------------------------------------------------------------------------\n",
      "450 fits failed with the following error:\n",
      "Traceback (most recent call last):\n",
      "  File \"C:\\Users\\SIMRAN SHAIKH\\anaconda3\\Lib\\site-packages\\sklearn\\model_selection\\_validation.py\", line 732, in _fit_and_score\n",
      "    estimator.fit(X_train, y_train, **fit_params)\n",
      "  File \"C:\\Users\\SIMRAN SHAIKH\\anaconda3\\Lib\\site-packages\\sklearn\\base.py\", line 1151, in wrapper\n",
      "    return fit_method(estimator, *args, **kwargs)\n",
      "           ^^^^^^^^^^^^^^^^^^^^^^^^^^^^^^^^^^^^^^\n",
      "  File \"C:\\Users\\SIMRAN SHAIKH\\anaconda3\\Lib\\site-packages\\sklearn\\linear_model\\_logistic.py\", line 1168, in fit\n",
      "    solver = _check_solver(self.solver, self.penalty, self.dual)\n",
      "             ^^^^^^^^^^^^^^^^^^^^^^^^^^^^^^^^^^^^^^^^^^^^^^^^^^^\n",
      "  File \"C:\\Users\\SIMRAN SHAIKH\\anaconda3\\Lib\\site-packages\\sklearn\\linear_model\\_logistic.py\", line 73, in _check_solver\n",
      "    raise ValueError(\"penalty='none' is not supported for the liblinear solver\")\n",
      "ValueError: penalty='none' is not supported for the liblinear solver\n",
      "\n",
      "  warnings.warn(some_fits_failed_message, FitFailedWarning)\n",
      "C:\\Users\\SIMRAN SHAIKH\\anaconda3\\Lib\\site-packages\\sklearn\\model_selection\\_search.py:976: UserWarning: One or more of the test scores are non-finite: [       nan 0.8169109  0.64931784 0.72502948 0.64931784        nan\n",
      "        nan 0.86491494 0.67601482 0.84975577 0.67601482        nan\n",
      "        nan 0.88083207 0.70405929 0.88369547 0.70405929        nan\n",
      "        nan 0.81025771 0.64931784 0.72502948 0.64931784        nan\n",
      "        nan 0.86575712 0.67601482 0.84975577 0.67601482        nan\n",
      "        nan 0.88226377 0.70405929 0.88369547 0.70405929        nan\n",
      "        nan 0.82255348 0.64931784 0.72502948 0.64931784        nan\n",
      "        nan 0.87156813 0.67601482 0.84975577 0.67601482        nan\n",
      "        nan 0.88226377 0.70405929 0.88361125 0.70405929        nan\n",
      "        nan 0.79274044 0.64931784 0.72502948 0.64931784        nan\n",
      "        nan 0.87552636 0.67601482 0.84925046 0.67601482        nan\n",
      "        nan 0.88352703 0.70405929 0.88361125 0.70405929        nan\n",
      "        nan 0.83468082 0.64931784 0.72502948 0.64931784        nan\n",
      "        nan 0.87215766 0.67601482 0.84983999 0.67601482        nan\n",
      "        nan 0.88268486 0.70405929 0.88369547 0.70405929        nan\n",
      "        nan 0.80326764 0.64931784 0.72502948 0.64931784        nan\n",
      "        nan 0.86550446 0.67601482 0.84958733 0.67601482        nan\n",
      "        nan 0.88074785 0.70405929 0.88352703 0.70405929        nan\n",
      "        nan 0.80731009 0.64931784 0.72502948 0.64931784        nan\n",
      "        nan 0.87434731 0.67601482 0.84975577 0.67601482        nan\n",
      "        nan 0.88209533 0.70405929 0.88361125 0.70405929        nan\n",
      "        nan 0.78322385 0.64931784 0.72502948 0.64931784        nan\n",
      "        nan 0.86230419 0.67601482 0.84975577 0.67601482        nan\n",
      "        nan 0.88302173 0.70405929 0.88377969 0.70405929        nan\n",
      "        nan 0.81185784 0.64931784 0.72502948 0.64931784        nan\n",
      "        nan 0.84386054 0.67601482 0.84958733 0.67601482        nan\n",
      "        nan 0.88420077 0.70405929 0.88361125 0.70405929        nan\n",
      "        nan 0.81876369 0.64931784 0.72502948 0.64931784        nan\n",
      "        nan 0.86087249 0.67601482 0.84958733 0.67601482        nan\n",
      "        nan 0.87855819 0.70405929 0.88369547 0.70405929        nan\n",
      "        nan 0.78608725 0.64931784 0.72502948 0.64931784        nan\n",
      "        nan 0.86819943 0.67601482 0.84975577 0.67601482        nan\n",
      "        nan 0.88057942 0.70405929 0.88361125 0.70405929        nan\n",
      "        nan 0.8360283  0.64931784 0.72502948 0.64931784        nan\n",
      "        nan 0.87232609 0.67601482 0.84983999 0.67601482        nan\n",
      "        nan 0.88217955 0.70405929 0.88361125 0.70405929        nan\n",
      "        nan 0.81750042 0.64931784 0.72502948 0.64931784        nan\n",
      "        nan 0.85253495 0.67601482 0.84967155 0.67601482        nan\n",
      "        nan 0.88083207 0.70405929 0.88377969 0.70405929        nan\n",
      "        nan 0.81413172 0.64931784 0.72502948 0.64931784        nan\n",
      "        nan 0.84301836 0.67601482 0.84975577 0.67601482        nan\n",
      "        nan 0.8819269  0.70405929 0.88352703 0.70405929        nan\n",
      "        nan 0.78692943 0.64931784 0.72502948 0.64931784        nan\n",
      "        nan 0.86120936 0.67601482 0.84983999 0.67601482        nan\n",
      "        nan 0.88428499 0.70405929 0.88377969 0.70405929        nan\n",
      "        nan 0.79821459 0.64931784 0.72502948 0.64931784        nan\n",
      "        nan 0.86011454 0.67601482 0.84975577 0.67601482        nan\n",
      "        nan 0.88302173 0.70405929 0.88361125 0.70405929        nan\n",
      "        nan 0.80697322 0.64931784 0.72502948 0.64931784        nan\n",
      "        nan 0.87131548 0.67601482 0.84967155 0.67601482        nan\n",
      "        nan 0.88226377 0.70405929 0.88361125 0.70405929        nan\n",
      "        nan 0.81185784 0.64931784 0.72502948 0.64931784        nan\n",
      "        nan 0.84722924 0.67601482 0.84983999 0.67601482        nan\n",
      "        nan 0.88175846 0.70405929 0.88344282 0.70405929        nan\n",
      "        nan 0.80570995 0.64931784 0.72502948 0.64931784        nan\n",
      "        nan 0.84840829 0.67601482 0.84967155 0.67601482        nan\n",
      "        nan 0.88184268 0.70405929 0.88361125 0.70405929        nan\n",
      "        nan 0.81253158 0.64931784 0.72502948 0.64931784        nan\n",
      "        nan 0.83906013 0.67601482 0.8499242  0.67601482        nan\n",
      "        nan 0.88327438 0.70405929 0.88369547 0.70405929        nan\n",
      "        nan 0.80848914 0.64931784 0.72502948 0.64931784        nan\n",
      "        nan 0.86171467 0.67601482 0.84975577 0.67601482        nan\n",
      "        nan 0.88276908 0.70405929 0.88361125 0.70405929        nan\n",
      "        nan 0.80562574 0.64931784 0.72502948 0.64931784        nan\n",
      "        nan 0.86179889 0.67601482 0.85009264 0.67601482        nan\n",
      "        nan 0.88276908 0.70405929 0.88352703 0.70405929        nan\n",
      "        nan 0.8097524  0.64931784 0.72502948 0.64931784        nan\n",
      "        nan 0.86659929 0.67601482 0.84967155 0.67601482        nan\n",
      "        nan 0.88344282 0.70405929 0.88369547 0.70405929        nan\n",
      "        nan 0.79947785 0.64931784 0.72502948 0.64931784        nan\n",
      "        nan 0.84950312 0.67601482 0.84975577 0.67601482        nan\n",
      "        nan 0.87914772 0.70405929 0.88361125 0.70405929        nan\n",
      "        nan 0.80857335 0.64931784 0.72502948 0.64931784        nan\n",
      "        nan 0.85413509 0.67601482 0.85017686 0.67601482        nan\n",
      "        nan 0.87737915 0.70405929 0.88361125 0.70405929        nan\n",
      "        nan 0.80250969 0.64931784 0.72502948 0.64931784        nan\n",
      "        nan 0.8647465  0.67601482 0.84967155 0.67601482        nan\n",
      "        nan 0.88352703 0.70405929 0.88361125 0.70405929        nan\n",
      "        nan 0.81244736 0.64931784 0.72502948 0.64931784        nan\n",
      "        nan 0.87198922 0.67601482 0.84967155 0.67601482        nan\n",
      "        nan 0.88201112 0.70405929 0.88361125 0.70405929        nan\n",
      "        nan 0.80823648 0.64931784 0.72502948 0.64931784        nan\n",
      "        nan 0.85506148 0.67601482 0.8494189  0.67601482        nan\n",
      "        nan 0.88361125 0.70405929 0.88369547 0.70405929        nan\n",
      "        nan 0.81640559 0.64931784 0.72502948 0.64931784        nan\n",
      "        nan 0.85261917 0.67601482 0.8499242  0.67601482        nan\n",
      "        nan 0.88302173 0.70405929 0.88369547 0.70405929        nan\n",
      "        nan 0.80192016 0.64931784 0.72502948 0.64931784        nan\n",
      "        nan 0.8656729  0.67601482 0.84983999 0.67601482        nan\n",
      "        nan 0.87805289 0.70405929 0.88369547 0.70405929        nan\n",
      "        nan 0.8145528  0.64931784 0.72502948 0.64931784        nan\n",
      "        nan 0.86836786 0.67601482 0.84967155 0.67601482        nan\n",
      "        nan 0.88175846 0.70405929 0.88361125 0.70405929        nan\n",
      "        nan 0.82246926 0.64931784 0.72502948 0.64931784        nan\n",
      "        nan 0.86803099 0.67601482 0.84958733 0.67601482        nan\n",
      "        nan 0.88487452 0.70405929 0.88352703 0.70405929        nan\n",
      "        nan 0.82347987 0.64931784 0.72502948 0.64931784        nan\n",
      "        nan 0.86356746 0.67601482 0.84975577 0.67601482        nan\n",
      "        nan 0.87897928 0.70405929 0.88369547 0.70405929        nan\n",
      "        nan 0.80242547 0.64931784 0.72502948 0.64931784        nan\n",
      "        nan 0.87249453 0.67601482 0.8499242  0.67601482        nan\n",
      "        nan 0.88125316 0.70405929 0.88352703 0.70405929        nan\n",
      "        nan 0.82710123 0.64931784 0.72502948 0.64931784        nan\n",
      "        nan 0.84908203 0.67601482 0.84958733 0.67601482        nan\n",
      "        nan 0.88327438 0.70405929 0.88361125 0.70405929        nan\n",
      "        nan 0.80629948 0.64931784 0.72502948 0.64931784        nan\n",
      "        nan 0.83518612 0.67601482 0.84874516 0.67601482        nan\n",
      "        nan 0.88167425 0.70405929 0.88361125 0.70405929        nan\n",
      "        nan 0.81969008 0.64931784 0.72502948 0.64931784        nan\n",
      "        nan 0.85438774 0.67601482 0.84967155 0.67601482        nan\n",
      "        nan 0.88201112 0.70405929 0.88377969 0.70405929        nan\n",
      "        nan 0.8126158  0.64931784 0.72502948 0.64931784        nan\n",
      "        nan 0.86702038 0.67601482 0.84975577 0.67601482        nan\n",
      "        nan 0.88276908 0.70405929 0.88369547 0.70405929        nan\n",
      "        nan 0.79821459 0.64931784 0.72502948 0.64931784        nan\n",
      "        nan 0.87215766 0.67601482 0.84950312 0.67601482        nan\n",
      "        nan 0.88352703 0.70405929 0.88369547 0.70405929        nan\n",
      "        nan 0.80621526 0.64931784 0.72502948 0.64931784        nan\n",
      "        nan 0.85396665 0.67601482 0.84908203 0.67601482        nan\n",
      "        nan 0.88234799 0.70405929 0.88369547 0.70405929        nan\n",
      "        nan 0.79172983 0.64931784 0.72502948 0.64931784        nan\n",
      "        nan 0.8580091  0.67601482 0.84967155 0.67601482        nan\n",
      "        nan 0.88344282 0.70405929 0.88361125 0.70405929        nan\n",
      "        nan 0.80537308 0.64931784 0.72502948 0.64931784        nan\n",
      "        nan 0.86365168 0.67601482 0.84958733 0.67601482        nan\n",
      "        nan 0.88352703 0.70405929 0.88361125 0.70405929        nan\n",
      "        nan 0.79501432 0.64931784 0.72502948 0.64931784        nan\n",
      "        nan 0.85885127 0.67601482 0.8499242  0.67601482        nan\n",
      "        nan 0.88285329 0.70405929 0.88369547 0.70405929        nan\n",
      "        nan 0.79627758 0.64931784 0.72502948 0.64931784        nan\n",
      "        nan 0.84419741 0.67601482 0.84967155 0.67601482        nan\n",
      "        nan 0.88260064 0.70405929 0.88377969 0.70405929        nan\n",
      "        nan 0.80848914 0.64931784 0.72502948 0.64931784        nan\n",
      "        nan 0.86323059 0.67601482 0.84975577 0.67601482        nan\n",
      "        nan 0.88293751 0.70405929 0.88377969 0.70405929        nan\n",
      "        nan 0.80874179 0.64931784 0.72502948 0.64931784        nan\n",
      "        nan 0.84461849 0.67601482 0.84950312 0.67601482        nan\n",
      "        nan 0.88209533 0.70405929 0.88361125 0.70405929        nan\n",
      "        nan 0.8169109  0.64931784 0.72502948 0.64931784        nan\n",
      "        nan 0.86744147 0.67601482 0.84958733 0.67601482        nan\n",
      "        nan 0.88369547 0.70405929 0.8838639  0.70405929        nan\n",
      "        nan 0.81303689 0.64931784 0.72502948 0.64931784        nan\n",
      "        nan 0.86061984 0.67601482 0.84967155 0.67601482        nan\n",
      "        nan 0.88150581 0.70405929 0.88369547 0.70405929        nan\n",
      "        nan 0.79551962 0.64931784 0.72502948 0.64931784        nan\n",
      "        nan 0.87316827 0.67601482 0.84967155 0.67601482        nan\n",
      "        nan 0.88361125 0.70405929 0.88361125 0.70405929        nan\n",
      "        nan 0.79307731 0.64931784 0.72502948 0.64931784        nan\n",
      "        nan 0.86289372 0.67601482 0.84967155 0.67601482        nan\n",
      "        nan 0.88411656 0.70405929 0.88352703 0.70405929        nan]\n",
      "  warnings.warn(\n",
      "C:\\Users\\SIMRAN SHAIKH\\anaconda3\\Lib\\site-packages\\sklearn\\svm\\_base.py:1242: ConvergenceWarning: Liblinear failed to converge, increase the number of iterations.\n",
      "  warnings.warn(\n"
     ]
    }
   ],
   "source": [
    "best_clf_1=clf_1.fit(x_train,y_train)"
   ]
  },
  {
   "cell_type": "code",
   "execution_count": 66,
   "id": "b71de7c6",
   "metadata": {},
   "outputs": [
    {
     "data": {
      "text/plain": [
       "{'C': 91029817799.15227,\n",
       " 'max_iter': 20,\n",
       " 'penalty': 'l1',\n",
       " 'solver': 'liblinear'}"
      ]
     },
     "execution_count": 66,
     "metadata": {},
     "output_type": "execute_result"
    }
   ],
   "source": [
    "best_clf_1.best_params_"
   ]
  },
  {
   "cell_type": "code",
   "execution_count": 67,
   "id": "0332d543",
   "metadata": {},
   "outputs": [],
   "source": [
    "y_pred_1=clf_1.predict(x_test)"
   ]
  },
  {
   "cell_type": "code",
   "execution_count": 68,
   "id": "9a6d9442",
   "metadata": {},
   "outputs": [
    {
     "name": "stdout",
     "output_type": "stream",
     "text": [
      "              precision    recall  f1-score   support\n",
      "\n",
      "           0       0.87      0.87      0.87      2558\n",
      "           1       0.87      0.87      0.87      2532\n",
      "\n",
      "    accuracy                           0.87      5090\n",
      "   macro avg       0.87      0.87      0.87      5090\n",
      "weighted avg       0.87      0.87      0.87      5090\n",
      "\n"
     ]
    }
   ],
   "source": [
    "print(classification_report(y_test,y_pred_1))"
   ]
  },
  {
   "cell_type": "markdown",
   "id": "e46769ba",
   "metadata": {},
   "source": [
    "## Printing the confusion matrix"
   ]
  },
  {
   "cell_type": "code",
   "execution_count": 69,
   "id": "cde16724",
   "metadata": {},
   "outputs": [],
   "source": [
    "from sklearn import metrics"
   ]
  },
  {
   "cell_type": "code",
   "execution_count": 70,
   "id": "ef35797f",
   "metadata": {},
   "outputs": [
    {
     "data": {
      "text/plain": [
       "array([[2229,  329],\n",
       "       [ 322, 2210]], dtype=int64)"
      ]
     },
     "execution_count": 70,
     "metadata": {},
     "output_type": "execute_result"
    }
   ],
   "source": [
    "cf_matrix=metrics.confusion_matrix(y_test,y_pred_1)\n",
    "cf_matrix"
   ]
  },
  {
   "cell_type": "code",
   "execution_count": 71,
   "id": "6c7cfbf8",
   "metadata": {},
   "outputs": [
    {
     "data": {
      "image/png": "[encoded data removed]",
      "text/plain": [
       "<Figure size 640x480 with 2 Axes>"
      ]
     },
     "metadata": {},
     "output_type": "display_data"
    }
   ],
   "source": [
    "cm_display = metrics.ConfusionMatrixDisplay(confusion_matrix = cf_matrix, display_labels = [False, True])\n",
    "cm_display.plot()\n",
    "plt.show()"
   ]
  },
  {
   "cell_type": "markdown",
   "id": "ec3ecc9f",
   "metadata": {},
   "source": [
    "### 2) Decision Tree"
   ]
  },
  {
   "cell_type": "code",
   "execution_count": 72,
   "id": "d95a7b5d",
   "metadata": {},
   "outputs": [],
   "source": [
    "from sklearn.tree import DecisionTreeClassifier"
   ]
  },
  {
   "cell_type": "code",
   "execution_count": 73,
   "id": "511d273b",
   "metadata": {},
   "outputs": [],
   "source": [
    "treemodel = DecisionTreeClassifier(max_depth=3)\n",
    "treemodel.fit(x_train, y_train)\n",
    "y_pred_2 = treemodel.predict(x_test)"
   ]
  },
  {
   "cell_type": "code",
   "execution_count": 74,
   "id": "8cdb520a",
   "metadata": {},
   "outputs": [
    {
     "name": "stdout",
     "output_type": "stream",
     "text": [
      "              precision    recall  f1-score   support\n",
      "\n",
      "           0       0.75      1.00      0.86      2558\n",
      "           1       1.00      0.67      0.80      2532\n",
      "\n",
      "    accuracy                           0.84      5090\n",
      "   macro avg       0.88      0.83      0.83      5090\n",
      "weighted avg       0.88      0.84      0.83      5090\n",
      "\n"
     ]
    }
   ],
   "source": [
    "print(classification_report(y_test,y_pred_2))"
   ]
  },
  {
   "cell_type": "markdown",
   "id": "ba00bf56",
   "metadata": {},
   "source": [
    "### Hyperparameter tuning for Decision Tree"
   ]
  },
  {
   "cell_type": "code",
   "execution_count": 75,
   "id": "e68087e5",
   "metadata": {},
   "outputs": [],
   "source": [
    "param_grid_2=[{\n",
    "    'criterion':['gini','entropy','log-loss'],\n",
    "    'splitter':['best','random'],\n",
    "    'max_depth':[1,2,3,4],\n",
    "    'max_features':['auto','sqrt','log2']}]"
   ]
  },
  {
   "cell_type": "code",
   "execution_count": 76,
   "id": "7af3c593",
   "metadata": {},
   "outputs": [],
   "source": [
    "clf_2=GridSearchCV(treemodel,param_grid=param_grid_2,cv=4,scoring='accuracy')"
   ]
  },
  {
   "cell_type": "code",
   "execution_count": 77,
   "id": "3c67e41a",
   "metadata": {},
   "outputs": [
    {
     "name": "stderr",
     "output_type": "stream",
     "text": [
      "C:\\Users\\SIMRAN SHAIKH\\anaconda3\\Lib\\site-packages\\sklearn\\model_selection\\_validation.py:425: FitFailedWarning: \n",
      "160 fits failed out of a total of 288.\n",
      "The score on these train-test partitions for these parameters will be set to nan.\n",
      "If these failures are not expected, you can try to debug them by setting error_score='raise'.\n",
      "\n",
      "Below are more details about the failures:\n",
      "--------------------------------------------------------------------------------\n",
      "64 fits failed with the following error:\n",
      "Traceback (most recent call last):\n",
      "  File \"C:\\Users\\SIMRAN SHAIKH\\anaconda3\\Lib\\site-packages\\sklearn\\model_selection\\_validation.py\", line 732, in _fit_and_score\n",
      "    estimator.fit(X_train, y_train, **fit_params)\n",
      "  File \"C:\\Users\\SIMRAN SHAIKH\\anaconda3\\Lib\\site-packages\\sklearn\\base.py\", line 1144, in wrapper\n",
      "    estimator._validate_params()\n",
      "  File \"C:\\Users\\SIMRAN SHAIKH\\anaconda3\\Lib\\site-packages\\sklearn\\base.py\", line 637, in _validate_params\n",
      "    validate_parameter_constraints(\n",
      "  File \"C:\\Users\\SIMRAN SHAIKH\\anaconda3\\Lib\\site-packages\\sklearn\\utils\\_param_validation.py\", line 95, in validate_parameter_constraints\n",
      "    raise InvalidParameterError(\n",
      "sklearn.utils._param_validation.InvalidParameterError: The 'max_features' parameter of DecisionTreeClassifier must be an int in the range [1, inf), a float in the range (0.0, 1.0], a str among {'sqrt', 'log2'} or None. Got 'auto' instead.\n",
      "\n",
      "--------------------------------------------------------------------------------\n",
      "96 fits failed with the following error:\n",
      "Traceback (most recent call last):\n",
      "  File \"C:\\Users\\SIMRAN SHAIKH\\anaconda3\\Lib\\site-packages\\sklearn\\model_selection\\_validation.py\", line 732, in _fit_and_score\n",
      "    estimator.fit(X_train, y_train, **fit_params)\n",
      "  File \"C:\\Users\\SIMRAN SHAIKH\\anaconda3\\Lib\\site-packages\\sklearn\\base.py\", line 1144, in wrapper\n",
      "    estimator._validate_params()\n",
      "  File \"C:\\Users\\SIMRAN SHAIKH\\anaconda3\\Lib\\site-packages\\sklearn\\base.py\", line 637, in _validate_params\n",
      "    validate_parameter_constraints(\n",
      "  File \"C:\\Users\\SIMRAN SHAIKH\\anaconda3\\Lib\\site-packages\\sklearn\\utils\\_param_validation.py\", line 95, in validate_parameter_constraints\n",
      "    raise InvalidParameterError(\n",
      "sklearn.utils._param_validation.InvalidParameterError: The 'criterion' parameter of DecisionTreeClassifier must be a str among {'gini', 'entropy', 'log_loss'}. Got 'log-loss' instead.\n",
      "\n",
      "  warnings.warn(some_fits_failed_message, FitFailedWarning)\n",
      "C:\\Users\\SIMRAN SHAIKH\\anaconda3\\Lib\\site-packages\\sklearn\\model_selection\\_search.py:976: UserWarning: One or more of the test scores are non-finite: [       nan        nan 0.66438973 0.68831179 0.68704142 0.6138559\n",
      "        nan        nan 0.7211559  0.74457245 0.78903388 0.67534849\n",
      "        nan        nan 0.80621385 0.75357572 0.79248131 0.72974697\n",
      "        nan        nan 0.85051382 0.76461872 0.81935594 0.77648768\n",
      "        nan        nan 0.72528155 0.67416874 0.7299143  0.64443511\n",
      "        nan        nan 0.7762277  0.72359939 0.81615596 0.67256331\n",
      "        nan        nan 0.79863639 0.75653067 0.78844798 0.71618177\n",
      "        nan        nan 0.8377991  0.76915674 0.8186837  0.7512243\n",
      "        nan        nan        nan        nan        nan        nan\n",
      "        nan        nan        nan        nan        nan        nan\n",
      "        nan        nan        nan        nan        nan        nan\n",
      "        nan        nan        nan        nan        nan        nan]\n",
      "  warnings.warn(\n"
     ]
    }
   ],
   "source": [
    "best_clf_2=clf_2.fit(x_train,y_train)"
   ]
  },
  {
   "cell_type": "code",
   "execution_count": 78,
   "id": "4267c586",
   "metadata": {},
   "outputs": [
    {
     "data": {
      "text/plain": [
       "{'criterion': 'gini',\n",
       " 'max_depth': 4,\n",
       " 'max_features': 'sqrt',\n",
       " 'splitter': 'best'}"
      ]
     },
     "execution_count": 78,
     "metadata": {},
     "output_type": "execute_result"
    }
   ],
   "source": [
    "best_clf_2.best_params_"
   ]
  },
  {
   "cell_type": "code",
   "execution_count": 79,
   "id": "8f01eb7f",
   "metadata": {},
   "outputs": [],
   "source": [
    "y_pred_2=clf_2.predict(x_test)"
   ]
  },
  {
   "cell_type": "code",
   "execution_count": 80,
   "id": "ef4065fa",
   "metadata": {},
   "outputs": [
    {
     "name": "stdout",
     "output_type": "stream",
     "text": [
      "              precision    recall  f1-score   support\n",
      "\n",
      "           0       0.85      0.88      0.87      2558\n",
      "           1       0.87      0.85      0.86      2532\n",
      "\n",
      "    accuracy                           0.86      5090\n",
      "   macro avg       0.86      0.86      0.86      5090\n",
      "weighted avg       0.86      0.86      0.86      5090\n",
      "\n"
     ]
    }
   ],
   "source": [
    "print(classification_report(y_test,y_pred_2))"
   ]
  },
  {
   "cell_type": "code",
   "execution_count": 81,
   "id": "9cfc4157",
   "metadata": {},
   "outputs": [
    {
     "data": {
      "text/plain": [
       "array([[2250,  308],\n",
       "       [ 384, 2148]], dtype=int64)"
      ]
     },
     "execution_count": 81,
     "metadata": {},
     "output_type": "execute_result"
    }
   ],
   "source": [
    "cf_matrix=metrics.confusion_matrix(y_test,y_pred_2)\n",
    "cf_matrix"
   ]
  },
  {
   "cell_type": "code",
   "execution_count": 82,
   "id": "c897a294",
   "metadata": {},
   "outputs": [
    {
     "data": {
      "image/png": "[encoded data removed]",
      "text/plain": [
       "<Figure size 640x480 with 2 Axes>"
      ]
     },
     "metadata": {},
     "output_type": "display_data"
    }
   ],
   "source": [
    "cm_display = metrics.ConfusionMatrixDisplay(confusion_matrix = cf_matrix, display_labels = [False, True])\n",
    "cm_display.plot()\n",
    "plt.show()"
   ]
  },
  {
   "cell_type": "markdown",
   "id": "9d90a783",
   "metadata": {},
   "source": [
    "### 3) Support Vector Machine"
   ]
  },
  {
   "cell_type": "code",
   "execution_count": 83,
   "id": "7c0590a1",
   "metadata": {},
   "outputs": [],
   "source": [
    "from sklearn.svm import SVC"
   ]
  },
  {
   "cell_type": "code",
   "execution_count": 84,
   "id": "8b86d720",
   "metadata": {},
   "outputs": [],
   "source": [
    "svmodel=SVC()\n",
    "svmodel.fit(x_train,y_train)\n",
    "y_pred_3=svmodel.predict(x_test)"
   ]
  },
  {
   "cell_type": "code",
   "execution_count": 85,
   "id": "bc5d949b",
   "metadata": {},
   "outputs": [
    {
     "name": "stdout",
     "output_type": "stream",
     "text": [
      "              precision    recall  f1-score   support\n",
      "\n",
      "           0       0.89      0.82      0.85      2558\n",
      "           1       0.83      0.90      0.86      2532\n",
      "\n",
      "    accuracy                           0.86      5090\n",
      "   macro avg       0.86      0.86      0.86      5090\n",
      "weighted avg       0.86      0.86      0.86      5090\n",
      "\n"
     ]
    }
   ],
   "source": [
    "print(classification_report(y_test,y_pred_3))"
   ]
  },
  {
   "cell_type": "markdown",
   "id": "f72782b9",
   "metadata": {},
   "source": [
    "### Hyperparameter tuning of Support vector machine"
   ]
  },
  {
   "cell_type": "code",
   "execution_count": 86,
   "id": "be732122",
   "metadata": {},
   "outputs": [],
   "source": [
    "param_grid_3={'C': [1,3], \n",
    "              'kernel': ['rbf',\"poly\",\"linear\"]}"
   ]
  },
  {
   "cell_type": "code",
   "execution_count": 87,
   "id": "4af94903",
   "metadata": {},
   "outputs": [],
   "source": [
    "clf_3=GridSearchCV(svmodel,param_grid=param_grid_3,cv=2,verbose=3,refit=True,)"
   ]
  },
  {
   "cell_type": "code",
   "execution_count": 88,
   "id": "c00a965d",
   "metadata": {},
   "outputs": [
    {
     "name": "stdout",
     "output_type": "stream",
     "text": [
      "Fitting 2 folds for each of 6 candidates, totalling 12 fits\n",
      "[CV 1/2] END ...................C=1, kernel=rbf;, score=0.838 total time=   5.6s\n",
      "[CV 2/2] END ...................C=1, kernel=rbf;, score=0.846 total time=   5.9s\n",
      "[CV 1/2] END ..................C=1, kernel=poly;, score=0.845 total time=   1.7s\n",
      "[CV 2/2] END ..................C=1, kernel=poly;, score=0.850 total time=   1.9s\n",
      "[CV 1/2] END ................C=1, kernel=linear;, score=0.886 total time=  19.2s\n",
      "[CV 2/2] END ................C=1, kernel=linear;, score=0.885 total time=  19.7s\n",
      "[CV 1/2] END ...................C=3, kernel=rbf;, score=0.863 total time=   5.2s\n",
      "[CV 2/2] END ...................C=3, kernel=rbf;, score=0.868 total time=   3.8s\n",
      "[CV 1/2] END ..................C=3, kernel=poly;, score=0.869 total time=   2.7s\n",
      "[CV 2/2] END ..................C=3, kernel=poly;, score=0.869 total time=   2.7s\n",
      "[CV 1/2] END ................C=3, kernel=linear;, score=0.886 total time=  45.0s\n",
      "[CV 2/2] END ................C=3, kernel=linear;, score=0.886 total time=  51.4s\n"
     ]
    }
   ],
   "source": [
    "best_clf_3=clf_3.fit(x_train,y_train)"
   ]
  },
  {
   "cell_type": "code",
   "execution_count": 89,
   "id": "a2381d0b",
   "metadata": {},
   "outputs": [
    {
     "data": {
      "text/plain": [
       "{'C': 3, 'kernel': 'linear'}"
      ]
     },
     "execution_count": 89,
     "metadata": {},
     "output_type": "execute_result"
    }
   ],
   "source": [
    "best_clf_3.best_params_"
   ]
  },
  {
   "cell_type": "code",
   "execution_count": 90,
   "id": "8085808c",
   "metadata": {},
   "outputs": [],
   "source": [
    "y_pred_3=clf_3.predict(x_test)"
   ]
  },
  {
   "cell_type": "code",
   "execution_count": 91,
   "id": "2d3bf77f",
   "metadata": {},
   "outputs": [
    {
     "name": "stdout",
     "output_type": "stream",
     "text": [
      "              precision    recall  f1-score   support\n",
      "\n",
      "           0       0.89      0.87      0.88      2558\n",
      "           1       0.87      0.89      0.88      2532\n",
      "\n",
      "    accuracy                           0.88      5090\n",
      "   macro avg       0.88      0.88      0.88      5090\n",
      "weighted avg       0.88      0.88      0.88      5090\n",
      "\n"
     ]
    }
   ],
   "source": [
    "print(classification_report(y_test,y_pred_3))"
   ]
  },
  {
   "cell_type": "code",
   "execution_count": 92,
   "id": "1aaa8c99",
   "metadata": {},
   "outputs": [
    {
     "data": {
      "text/plain": [
       "array([[2232,  326],\n",
       "       [ 278, 2254]], dtype=int64)"
      ]
     },
     "execution_count": 92,
     "metadata": {},
     "output_type": "execute_result"
    }
   ],
   "source": [
    "cf_matrix=metrics.confusion_matrix(y_test,y_pred_3)\n",
    "cf_matrix"
   ]
  },
  {
   "cell_type": "code",
   "execution_count": 93,
   "id": "47ad0a9c",
   "metadata": {},
   "outputs": [
    {
     "data": {
      "image/png": "[encoded data removed]",
      "text/plain": [
       "<Figure size 640x480 with 2 Axes>"
      ]
     },
     "metadata": {},
     "output_type": "display_data"
    }
   ],
   "source": [
    "cm_display = metrics.ConfusionMatrixDisplay(confusion_matrix = cf_matrix, display_labels = [False, True])\n",
    "cm_display.plot()\n",
    "plt.show()"
   ]
  }
 ],
 "metadata": {
  "kernelspec": {
   "display_name": "Python 3 (ipykernel)",
   "language": "python",
   "name": "python3"
  },
  "language_info": {
   "codemirror_mode": {
    "name": "ipython",
    "version": 3
   },
   "file_extension": ".py",
   "mimetype": "text/x-python",
   "name": "python",
   "nbconvert_exporter": "python",
   "pygments_lexer": "ipython3",
   "version": "3.11.5"
  }
 },
 "nbformat": 4,
 "nbformat_minor": 5
}
